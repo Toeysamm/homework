{
  "nbformat": 4,
  "nbformat_minor": 0,
  "metadata": {
    "colab": {
      "provenance": [],
      "include_colab_link": true
    },
    "kernelspec": {
      "name": "python3",
      "display_name": "Python 3"
    },
    "language_info": {
      "name": "python"
    },
    "accelerator": "GPU",
    "gpuClass": "standard"
  },
  "cells": [
    {
      "cell_type": "markdown",
      "metadata": {
        "id": "view-in-github",
        "colab_type": "text"
      },
      "source": [
        "<a href=\"https://colab.research.google.com/github/Toeysamm/homework/blob/main/DADS7202_Homework1.ipynb\" target=\"_parent\"><img src=\"https://colab.research.google.com/assets/colab-badge.svg\" alt=\"Open In Colab\"/></a>"
      ]
    },
    {
      "cell_type": "code",
      "execution_count": 1,
      "metadata": {
        "id": "P7t8qWzjPX9F",
        "colab": {
          "base_uri": "https://localhost:8080/"
        },
        "outputId": "fab755e6-6fa8-430a-e4fd-dc6ba0c85a2b"
      },
      "outputs": [
        {
          "output_type": "stream",
          "name": "stdout",
          "text": [
            "GPU 0: Tesla T4 (UUID: GPU-39627407-f574-f4e4-b4e4-fc7afb05e6b9)\n"
          ]
        }
      ],
      "source": [
        "# List all NVIDIA GPUs as avaialble in this computer (or Colab's session)\n",
        "!nvidia-smi -L"
      ]
    },
    {
      "cell_type": "code",
      "source": [
        "import sys\n",
        "import numpy as np\n",
        "import pandas as pd\n",
        "import seaborn as sns\n",
        "import matplotlib.pyplot as plt\n",
        "%matplotlib inline\n",
        "import tensorflow as tf"
      ],
      "metadata": {
        "id": "2e7sk7fWPZSZ"
      },
      "execution_count": 2,
      "outputs": []
    },
    {
      "cell_type": "code",
      "source": [
        "'''\n",
        "from google.colab import drive\n",
        "drive.mount('/content/drive')\n",
        "path=\"/content/drive/MyDrive/Churn_Modelling.csv\"\n",
        "data = pd.read_csv(path)\n",
        "data \n",
        "\n",
        "'''"
      ],
      "metadata": {
        "colab": {
          "base_uri": "https://localhost:8080/",
          "height": 36
        },
        "id": "hoUGiEweSnP2",
        "outputId": "f21e70e8-9754-4902-b914-f66e940e4b5c"
      },
      "execution_count": 3,
      "outputs": [
        {
          "output_type": "execute_result",
          "data": {
            "text/plain": [
              "'\\nfrom google.colab import drive\\ndrive.mount(\\'/content/drive\\')\\npath=\"/content/drive/MyDrive/Churn_Modelling.csv\"\\ndata = pd.read_csv(path)\\ndata \\n\\n'"
            ],
            "application/vnd.google.colaboratory.intrinsic+json": {
              "type": "string"
            }
          },
          "metadata": {},
          "execution_count": 3
        }
      ]
    },
    {
      "cell_type": "code",
      "source": [
        "#2\n",
        "url = \"https://drive.google.com/file/d/1-mT6iykRVgRU3blYpX5i_YxhbqjUJepP/view?usp=sharing\"\n",
        "path = 'https://drive.google.com/uc?export=download&id='+url.split('/')[-2]\n",
        "df = pd.read_csv(path)"
      ],
      "metadata": {
        "id": "hFKpTgWRVeo0"
      },
      "execution_count": 4,
      "outputs": []
    },
    {
      "cell_type": "code",
      "source": [
        "df.head()\n"
      ],
      "metadata": {
        "colab": {
          "base_uri": "https://localhost:8080/",
          "height": 206
        },
        "id": "mLbfRCT4Wpke",
        "outputId": "6e4a78bf-d417-44fe-e958-ef45d3473c62"
      },
      "execution_count": 5,
      "outputs": [
        {
          "output_type": "execute_result",
          "data": {
            "text/plain": [
              "   RowNumber  CustomerId   Surname  CreditScore Geography  Gender  Age  \\\n",
              "0          1    15634602  Hargrave          619    France  Female   42   \n",
              "1          2    15647311      Hill          608     Spain  Female   41   \n",
              "2          3    15619304      Onio          502    France  Female   42   \n",
              "3          4    15701354      Boni          699    France  Female   39   \n",
              "4          5    15737888  Mitchell          850     Spain  Female   43   \n",
              "\n",
              "   Tenure    Balance  NumOfProducts  HasCrCard  IsActiveMember  \\\n",
              "0       2       0.00              1          1               1   \n",
              "1       1   83807.86              1          0               1   \n",
              "2       8  159660.80              3          1               0   \n",
              "3       1       0.00              2          0               0   \n",
              "4       2  125510.82              1          1               1   \n",
              "\n",
              "   EstimatedSalary  Exited  \n",
              "0        101348.88       1  \n",
              "1        112542.58       0  \n",
              "2        113931.57       1  \n",
              "3         93826.63       0  \n",
              "4         79084.10       0  "
            ],
            "text/html": [
              "\n",
              "  <div id=\"df-f3274d10-729e-40ed-bc37-6d8dcd79a7de\">\n",
              "    <div class=\"colab-df-container\">\n",
              "      <div>\n",
              "<style scoped>\n",
              "    .dataframe tbody tr th:only-of-type {\n",
              "        vertical-align: middle;\n",
              "    }\n",
              "\n",
              "    .dataframe tbody tr th {\n",
              "        vertical-align: top;\n",
              "    }\n",
              "\n",
              "    .dataframe thead th {\n",
              "        text-align: right;\n",
              "    }\n",
              "</style>\n",
              "<table border=\"1\" class=\"dataframe\">\n",
              "  <thead>\n",
              "    <tr style=\"text-align: right;\">\n",
              "      <th></th>\n",
              "      <th>RowNumber</th>\n",
              "      <th>CustomerId</th>\n",
              "      <th>Surname</th>\n",
              "      <th>CreditScore</th>\n",
              "      <th>Geography</th>\n",
              "      <th>Gender</th>\n",
              "      <th>Age</th>\n",
              "      <th>Tenure</th>\n",
              "      <th>Balance</th>\n",
              "      <th>NumOfProducts</th>\n",
              "      <th>HasCrCard</th>\n",
              "      <th>IsActiveMember</th>\n",
              "      <th>EstimatedSalary</th>\n",
              "      <th>Exited</th>\n",
              "    </tr>\n",
              "  </thead>\n",
              "  <tbody>\n",
              "    <tr>\n",
              "      <th>0</th>\n",
              "      <td>1</td>\n",
              "      <td>15634602</td>\n",
              "      <td>Hargrave</td>\n",
              "      <td>619</td>\n",
              "      <td>France</td>\n",
              "      <td>Female</td>\n",
              "      <td>42</td>\n",
              "      <td>2</td>\n",
              "      <td>0.00</td>\n",
              "      <td>1</td>\n",
              "      <td>1</td>\n",
              "      <td>1</td>\n",
              "      <td>101348.88</td>\n",
              "      <td>1</td>\n",
              "    </tr>\n",
              "    <tr>\n",
              "      <th>1</th>\n",
              "      <td>2</td>\n",
              "      <td>15647311</td>\n",
              "      <td>Hill</td>\n",
              "      <td>608</td>\n",
              "      <td>Spain</td>\n",
              "      <td>Female</td>\n",
              "      <td>41</td>\n",
              "      <td>1</td>\n",
              "      <td>83807.86</td>\n",
              "      <td>1</td>\n",
              "      <td>0</td>\n",
              "      <td>1</td>\n",
              "      <td>112542.58</td>\n",
              "      <td>0</td>\n",
              "    </tr>\n",
              "    <tr>\n",
              "      <th>2</th>\n",
              "      <td>3</td>\n",
              "      <td>15619304</td>\n",
              "      <td>Onio</td>\n",
              "      <td>502</td>\n",
              "      <td>France</td>\n",
              "      <td>Female</td>\n",
              "      <td>42</td>\n",
              "      <td>8</td>\n",
              "      <td>159660.80</td>\n",
              "      <td>3</td>\n",
              "      <td>1</td>\n",
              "      <td>0</td>\n",
              "      <td>113931.57</td>\n",
              "      <td>1</td>\n",
              "    </tr>\n",
              "    <tr>\n",
              "      <th>3</th>\n",
              "      <td>4</td>\n",
              "      <td>15701354</td>\n",
              "      <td>Boni</td>\n",
              "      <td>699</td>\n",
              "      <td>France</td>\n",
              "      <td>Female</td>\n",
              "      <td>39</td>\n",
              "      <td>1</td>\n",
              "      <td>0.00</td>\n",
              "      <td>2</td>\n",
              "      <td>0</td>\n",
              "      <td>0</td>\n",
              "      <td>93826.63</td>\n",
              "      <td>0</td>\n",
              "    </tr>\n",
              "    <tr>\n",
              "      <th>4</th>\n",
              "      <td>5</td>\n",
              "      <td>15737888</td>\n",
              "      <td>Mitchell</td>\n",
              "      <td>850</td>\n",
              "      <td>Spain</td>\n",
              "      <td>Female</td>\n",
              "      <td>43</td>\n",
              "      <td>2</td>\n",
              "      <td>125510.82</td>\n",
              "      <td>1</td>\n",
              "      <td>1</td>\n",
              "      <td>1</td>\n",
              "      <td>79084.10</td>\n",
              "      <td>0</td>\n",
              "    </tr>\n",
              "  </tbody>\n",
              "</table>\n",
              "</div>\n",
              "      <button class=\"colab-df-convert\" onclick=\"convertToInteractive('df-f3274d10-729e-40ed-bc37-6d8dcd79a7de')\"\n",
              "              title=\"Convert this dataframe to an interactive table.\"\n",
              "              style=\"display:none;\">\n",
              "        \n",
              "  <svg xmlns=\"http://www.w3.org/2000/svg\" height=\"24px\"viewBox=\"0 0 24 24\"\n",
              "       width=\"24px\">\n",
              "    <path d=\"M0 0h24v24H0V0z\" fill=\"none\"/>\n",
              "    <path d=\"M18.56 5.44l.94 2.06.94-2.06 2.06-.94-2.06-.94-.94-2.06-.94 2.06-2.06.94zm-11 1L8.5 8.5l.94-2.06 2.06-.94-2.06-.94L8.5 2.5l-.94 2.06-2.06.94zm10 10l.94 2.06.94-2.06 2.06-.94-2.06-.94-.94-2.06-.94 2.06-2.06.94z\"/><path d=\"M17.41 7.96l-1.37-1.37c-.4-.4-.92-.59-1.43-.59-.52 0-1.04.2-1.43.59L10.3 9.45l-7.72 7.72c-.78.78-.78 2.05 0 2.83L4 21.41c.39.39.9.59 1.41.59.51 0 1.02-.2 1.41-.59l7.78-7.78 2.81-2.81c.8-.78.8-2.07 0-2.86zM5.41 20L4 18.59l7.72-7.72 1.47 1.35L5.41 20z\"/>\n",
              "  </svg>\n",
              "      </button>\n",
              "      \n",
              "  <style>\n",
              "    .colab-df-container {\n",
              "      display:flex;\n",
              "      flex-wrap:wrap;\n",
              "      gap: 12px;\n",
              "    }\n",
              "\n",
              "    .colab-df-convert {\n",
              "      background-color: #E8F0FE;\n",
              "      border: none;\n",
              "      border-radius: 50%;\n",
              "      cursor: pointer;\n",
              "      display: none;\n",
              "      fill: #1967D2;\n",
              "      height: 32px;\n",
              "      padding: 0 0 0 0;\n",
              "      width: 32px;\n",
              "    }\n",
              "\n",
              "    .colab-df-convert:hover {\n",
              "      background-color: #E2EBFA;\n",
              "      box-shadow: 0px 1px 2px rgba(60, 64, 67, 0.3), 0px 1px 3px 1px rgba(60, 64, 67, 0.15);\n",
              "      fill: #174EA6;\n",
              "    }\n",
              "\n",
              "    [theme=dark] .colab-df-convert {\n",
              "      background-color: #3B4455;\n",
              "      fill: #D2E3FC;\n",
              "    }\n",
              "\n",
              "    [theme=dark] .colab-df-convert:hover {\n",
              "      background-color: #434B5C;\n",
              "      box-shadow: 0px 1px 3px 1px rgba(0, 0, 0, 0.15);\n",
              "      filter: drop-shadow(0px 1px 2px rgba(0, 0, 0, 0.3));\n",
              "      fill: #FFFFFF;\n",
              "    }\n",
              "  </style>\n",
              "\n",
              "      <script>\n",
              "        const buttonEl =\n",
              "          document.querySelector('#df-f3274d10-729e-40ed-bc37-6d8dcd79a7de button.colab-df-convert');\n",
              "        buttonEl.style.display =\n",
              "          google.colab.kernel.accessAllowed ? 'block' : 'none';\n",
              "\n",
              "        async function convertToInteractive(key) {\n",
              "          const element = document.querySelector('#df-f3274d10-729e-40ed-bc37-6d8dcd79a7de');\n",
              "          const dataTable =\n",
              "            await google.colab.kernel.invokeFunction('convertToInteractive',\n",
              "                                                     [key], {});\n",
              "          if (!dataTable) return;\n",
              "\n",
              "          const docLinkHtml = 'Like what you see? Visit the ' +\n",
              "            '<a target=\"_blank\" href=https://colab.research.google.com/notebooks/data_table.ipynb>data table notebook</a>'\n",
              "            + ' to learn more about interactive tables.';\n",
              "          element.innerHTML = '';\n",
              "          dataTable['output_type'] = 'display_data';\n",
              "          await google.colab.output.renderOutput(dataTable, element);\n",
              "          const docLink = document.createElement('div');\n",
              "          docLink.innerHTML = docLinkHtml;\n",
              "          element.appendChild(docLink);\n",
              "        }\n",
              "      </script>\n",
              "    </div>\n",
              "  </div>\n",
              "  "
            ]
          },
          "metadata": {},
          "execution_count": 5
        }
      ]
    },
    {
      "cell_type": "code",
      "source": [
        "df.describe()"
      ],
      "metadata": {
        "colab": {
          "base_uri": "https://localhost:8080/",
          "height": 300
        },
        "id": "x9sqD0uOWqpL",
        "outputId": "da3115a9-db14-41b3-b9b6-9e49266ca7fe"
      },
      "execution_count": 6,
      "outputs": [
        {
          "output_type": "execute_result",
          "data": {
            "text/plain": [
              "         RowNumber    CustomerId   CreditScore           Age        Tenure  \\\n",
              "count  10000.00000  1.000000e+04  10000.000000  10000.000000  10000.000000   \n",
              "mean    5000.50000  1.569094e+07    650.528800     38.921800      5.012800   \n",
              "std     2886.89568  7.193619e+04     96.653299     10.487806      2.892174   \n",
              "min        1.00000  1.556570e+07    350.000000     18.000000      0.000000   \n",
              "25%     2500.75000  1.562853e+07    584.000000     32.000000      3.000000   \n",
              "50%     5000.50000  1.569074e+07    652.000000     37.000000      5.000000   \n",
              "75%     7500.25000  1.575323e+07    718.000000     44.000000      7.000000   \n",
              "max    10000.00000  1.581569e+07    850.000000     92.000000     10.000000   \n",
              "\n",
              "             Balance  NumOfProducts    HasCrCard  IsActiveMember  \\\n",
              "count   10000.000000   10000.000000  10000.00000    10000.000000   \n",
              "mean    76485.889288       1.530200      0.70550        0.515100   \n",
              "std     62397.405202       0.581654      0.45584        0.499797   \n",
              "min         0.000000       1.000000      0.00000        0.000000   \n",
              "25%         0.000000       1.000000      0.00000        0.000000   \n",
              "50%     97198.540000       1.000000      1.00000        1.000000   \n",
              "75%    127644.240000       2.000000      1.00000        1.000000   \n",
              "max    250898.090000       4.000000      1.00000        1.000000   \n",
              "\n",
              "       EstimatedSalary        Exited  \n",
              "count     10000.000000  10000.000000  \n",
              "mean     100090.239881      0.203700  \n",
              "std       57510.492818      0.402769  \n",
              "min          11.580000      0.000000  \n",
              "25%       51002.110000      0.000000  \n",
              "50%      100193.915000      0.000000  \n",
              "75%      149388.247500      0.000000  \n",
              "max      199992.480000      1.000000  "
            ],
            "text/html": [
              "\n",
              "  <div id=\"df-6040d801-157f-4bbb-adda-940385b2b709\">\n",
              "    <div class=\"colab-df-container\">\n",
              "      <div>\n",
              "<style scoped>\n",
              "    .dataframe tbody tr th:only-of-type {\n",
              "        vertical-align: middle;\n",
              "    }\n",
              "\n",
              "    .dataframe tbody tr th {\n",
              "        vertical-align: top;\n",
              "    }\n",
              "\n",
              "    .dataframe thead th {\n",
              "        text-align: right;\n",
              "    }\n",
              "</style>\n",
              "<table border=\"1\" class=\"dataframe\">\n",
              "  <thead>\n",
              "    <tr style=\"text-align: right;\">\n",
              "      <th></th>\n",
              "      <th>RowNumber</th>\n",
              "      <th>CustomerId</th>\n",
              "      <th>CreditScore</th>\n",
              "      <th>Age</th>\n",
              "      <th>Tenure</th>\n",
              "      <th>Balance</th>\n",
              "      <th>NumOfProducts</th>\n",
              "      <th>HasCrCard</th>\n",
              "      <th>IsActiveMember</th>\n",
              "      <th>EstimatedSalary</th>\n",
              "      <th>Exited</th>\n",
              "    </tr>\n",
              "  </thead>\n",
              "  <tbody>\n",
              "    <tr>\n",
              "      <th>count</th>\n",
              "      <td>10000.00000</td>\n",
              "      <td>1.000000e+04</td>\n",
              "      <td>10000.000000</td>\n",
              "      <td>10000.000000</td>\n",
              "      <td>10000.000000</td>\n",
              "      <td>10000.000000</td>\n",
              "      <td>10000.000000</td>\n",
              "      <td>10000.00000</td>\n",
              "      <td>10000.000000</td>\n",
              "      <td>10000.000000</td>\n",
              "      <td>10000.000000</td>\n",
              "    </tr>\n",
              "    <tr>\n",
              "      <th>mean</th>\n",
              "      <td>5000.50000</td>\n",
              "      <td>1.569094e+07</td>\n",
              "      <td>650.528800</td>\n",
              "      <td>38.921800</td>\n",
              "      <td>5.012800</td>\n",
              "      <td>76485.889288</td>\n",
              "      <td>1.530200</td>\n",
              "      <td>0.70550</td>\n",
              "      <td>0.515100</td>\n",
              "      <td>100090.239881</td>\n",
              "      <td>0.203700</td>\n",
              "    </tr>\n",
              "    <tr>\n",
              "      <th>std</th>\n",
              "      <td>2886.89568</td>\n",
              "      <td>7.193619e+04</td>\n",
              "      <td>96.653299</td>\n",
              "      <td>10.487806</td>\n",
              "      <td>2.892174</td>\n",
              "      <td>62397.405202</td>\n",
              "      <td>0.581654</td>\n",
              "      <td>0.45584</td>\n",
              "      <td>0.499797</td>\n",
              "      <td>57510.492818</td>\n",
              "      <td>0.402769</td>\n",
              "    </tr>\n",
              "    <tr>\n",
              "      <th>min</th>\n",
              "      <td>1.00000</td>\n",
              "      <td>1.556570e+07</td>\n",
              "      <td>350.000000</td>\n",
              "      <td>18.000000</td>\n",
              "      <td>0.000000</td>\n",
              "      <td>0.000000</td>\n",
              "      <td>1.000000</td>\n",
              "      <td>0.00000</td>\n",
              "      <td>0.000000</td>\n",
              "      <td>11.580000</td>\n",
              "      <td>0.000000</td>\n",
              "    </tr>\n",
              "    <tr>\n",
              "      <th>25%</th>\n",
              "      <td>2500.75000</td>\n",
              "      <td>1.562853e+07</td>\n",
              "      <td>584.000000</td>\n",
              "      <td>32.000000</td>\n",
              "      <td>3.000000</td>\n",
              "      <td>0.000000</td>\n",
              "      <td>1.000000</td>\n",
              "      <td>0.00000</td>\n",
              "      <td>0.000000</td>\n",
              "      <td>51002.110000</td>\n",
              "      <td>0.000000</td>\n",
              "    </tr>\n",
              "    <tr>\n",
              "      <th>50%</th>\n",
              "      <td>5000.50000</td>\n",
              "      <td>1.569074e+07</td>\n",
              "      <td>652.000000</td>\n",
              "      <td>37.000000</td>\n",
              "      <td>5.000000</td>\n",
              "      <td>97198.540000</td>\n",
              "      <td>1.000000</td>\n",
              "      <td>1.00000</td>\n",
              "      <td>1.000000</td>\n",
              "      <td>100193.915000</td>\n",
              "      <td>0.000000</td>\n",
              "    </tr>\n",
              "    <tr>\n",
              "      <th>75%</th>\n",
              "      <td>7500.25000</td>\n",
              "      <td>1.575323e+07</td>\n",
              "      <td>718.000000</td>\n",
              "      <td>44.000000</td>\n",
              "      <td>7.000000</td>\n",
              "      <td>127644.240000</td>\n",
              "      <td>2.000000</td>\n",
              "      <td>1.00000</td>\n",
              "      <td>1.000000</td>\n",
              "      <td>149388.247500</td>\n",
              "      <td>0.000000</td>\n",
              "    </tr>\n",
              "    <tr>\n",
              "      <th>max</th>\n",
              "      <td>10000.00000</td>\n",
              "      <td>1.581569e+07</td>\n",
              "      <td>850.000000</td>\n",
              "      <td>92.000000</td>\n",
              "      <td>10.000000</td>\n",
              "      <td>250898.090000</td>\n",
              "      <td>4.000000</td>\n",
              "      <td>1.00000</td>\n",
              "      <td>1.000000</td>\n",
              "      <td>199992.480000</td>\n",
              "      <td>1.000000</td>\n",
              "    </tr>\n",
              "  </tbody>\n",
              "</table>\n",
              "</div>\n",
              "      <button class=\"colab-df-convert\" onclick=\"convertToInteractive('df-6040d801-157f-4bbb-adda-940385b2b709')\"\n",
              "              title=\"Convert this dataframe to an interactive table.\"\n",
              "              style=\"display:none;\">\n",
              "        \n",
              "  <svg xmlns=\"http://www.w3.org/2000/svg\" height=\"24px\"viewBox=\"0 0 24 24\"\n",
              "       width=\"24px\">\n",
              "    <path d=\"M0 0h24v24H0V0z\" fill=\"none\"/>\n",
              "    <path d=\"M18.56 5.44l.94 2.06.94-2.06 2.06-.94-2.06-.94-.94-2.06-.94 2.06-2.06.94zm-11 1L8.5 8.5l.94-2.06 2.06-.94-2.06-.94L8.5 2.5l-.94 2.06-2.06.94zm10 10l.94 2.06.94-2.06 2.06-.94-2.06-.94-.94-2.06-.94 2.06-2.06.94z\"/><path d=\"M17.41 7.96l-1.37-1.37c-.4-.4-.92-.59-1.43-.59-.52 0-1.04.2-1.43.59L10.3 9.45l-7.72 7.72c-.78.78-.78 2.05 0 2.83L4 21.41c.39.39.9.59 1.41.59.51 0 1.02-.2 1.41-.59l7.78-7.78 2.81-2.81c.8-.78.8-2.07 0-2.86zM5.41 20L4 18.59l7.72-7.72 1.47 1.35L5.41 20z\"/>\n",
              "  </svg>\n",
              "      </button>\n",
              "      \n",
              "  <style>\n",
              "    .colab-df-container {\n",
              "      display:flex;\n",
              "      flex-wrap:wrap;\n",
              "      gap: 12px;\n",
              "    }\n",
              "\n",
              "    .colab-df-convert {\n",
              "      background-color: #E8F0FE;\n",
              "      border: none;\n",
              "      border-radius: 50%;\n",
              "      cursor: pointer;\n",
              "      display: none;\n",
              "      fill: #1967D2;\n",
              "      height: 32px;\n",
              "      padding: 0 0 0 0;\n",
              "      width: 32px;\n",
              "    }\n",
              "\n",
              "    .colab-df-convert:hover {\n",
              "      background-color: #E2EBFA;\n",
              "      box-shadow: 0px 1px 2px rgba(60, 64, 67, 0.3), 0px 1px 3px 1px rgba(60, 64, 67, 0.15);\n",
              "      fill: #174EA6;\n",
              "    }\n",
              "\n",
              "    [theme=dark] .colab-df-convert {\n",
              "      background-color: #3B4455;\n",
              "      fill: #D2E3FC;\n",
              "    }\n",
              "\n",
              "    [theme=dark] .colab-df-convert:hover {\n",
              "      background-color: #434B5C;\n",
              "      box-shadow: 0px 1px 3px 1px rgba(0, 0, 0, 0.15);\n",
              "      filter: drop-shadow(0px 1px 2px rgba(0, 0, 0, 0.3));\n",
              "      fill: #FFFFFF;\n",
              "    }\n",
              "  </style>\n",
              "\n",
              "      <script>\n",
              "        const buttonEl =\n",
              "          document.querySelector('#df-6040d801-157f-4bbb-adda-940385b2b709 button.colab-df-convert');\n",
              "        buttonEl.style.display =\n",
              "          google.colab.kernel.accessAllowed ? 'block' : 'none';\n",
              "\n",
              "        async function convertToInteractive(key) {\n",
              "          const element = document.querySelector('#df-6040d801-157f-4bbb-adda-940385b2b709');\n",
              "          const dataTable =\n",
              "            await google.colab.kernel.invokeFunction('convertToInteractive',\n",
              "                                                     [key], {});\n",
              "          if (!dataTable) return;\n",
              "\n",
              "          const docLinkHtml = 'Like what you see? Visit the ' +\n",
              "            '<a target=\"_blank\" href=https://colab.research.google.com/notebooks/data_table.ipynb>data table notebook</a>'\n",
              "            + ' to learn more about interactive tables.';\n",
              "          element.innerHTML = '';\n",
              "          dataTable['output_type'] = 'display_data';\n",
              "          await google.colab.output.renderOutput(dataTable, element);\n",
              "          const docLink = document.createElement('div');\n",
              "          docLink.innerHTML = docLinkHtml;\n",
              "          element.appendChild(docLink);\n",
              "        }\n",
              "      </script>\n",
              "    </div>\n",
              "  </div>\n",
              "  "
            ]
          },
          "metadata": {},
          "execution_count": 6
        }
      ]
    },
    {
      "cell_type": "code",
      "source": [
        "fig, ax = plt.subplots(2,3,figsize=(12,10))\n",
        "fig.tight_layout(pad=2, w_pad=5 , h_pad=2)\n",
        "sns.countplot(df['Exited'], ax=ax[0,0])\n",
        "ax[0,0].set_xticklabels([\"Retained\", \"Closed\"])\n",
        "sns.countplot(df['Gender'], ax=ax[0,1])\n",
        "sns.countplot(df['Geography'], ax=ax[0,2])\n",
        "sns.countplot(df['HasCrCard'], ax=ax[1,0])\n",
        "ax[1,0].set_xticklabels([\"No\", \"Yes\"])\n",
        "sns.countplot(df['IsActiveMember'], ax=ax[1,1])\n",
        "ax[1,1].set_xticklabels([\"No\", \"Yes\"])\n",
        "sns.countplot(df['NumOfProducts'], ax=ax[1,2])"
      ],
      "metadata": {
        "colab": {
          "base_uri": "https://localhost:8080/",
          "height": 976
        },
        "id": "uLiIGeOlbKoS",
        "outputId": "439c0d2c-3046-4cb9-e44a-3a2a30b403e4"
      },
      "execution_count": 7,
      "outputs": [
        {
          "output_type": "stream",
          "name": "stderr",
          "text": [
            "/usr/local/lib/python3.7/dist-packages/seaborn/_decorators.py:43: FutureWarning: Pass the following variable as a keyword arg: x. From version 0.12, the only valid positional argument will be `data`, and passing other arguments without an explicit keyword will result in an error or misinterpretation.\n",
            "  FutureWarning\n",
            "/usr/local/lib/python3.7/dist-packages/seaborn/_decorators.py:43: FutureWarning: Pass the following variable as a keyword arg: x. From version 0.12, the only valid positional argument will be `data`, and passing other arguments without an explicit keyword will result in an error or misinterpretation.\n",
            "  FutureWarning\n",
            "/usr/local/lib/python3.7/dist-packages/seaborn/_decorators.py:43: FutureWarning: Pass the following variable as a keyword arg: x. From version 0.12, the only valid positional argument will be `data`, and passing other arguments without an explicit keyword will result in an error or misinterpretation.\n",
            "  FutureWarning\n",
            "/usr/local/lib/python3.7/dist-packages/seaborn/_decorators.py:43: FutureWarning: Pass the following variable as a keyword arg: x. From version 0.12, the only valid positional argument will be `data`, and passing other arguments without an explicit keyword will result in an error or misinterpretation.\n",
            "  FutureWarning\n",
            "/usr/local/lib/python3.7/dist-packages/seaborn/_decorators.py:43: FutureWarning: Pass the following variable as a keyword arg: x. From version 0.12, the only valid positional argument will be `data`, and passing other arguments without an explicit keyword will result in an error or misinterpretation.\n",
            "  FutureWarning\n",
            "/usr/local/lib/python3.7/dist-packages/seaborn/_decorators.py:43: FutureWarning: Pass the following variable as a keyword arg: x. From version 0.12, the only valid positional argument will be `data`, and passing other arguments without an explicit keyword will result in an error or misinterpretation.\n",
            "  FutureWarning\n"
          ]
        },
        {
          "output_type": "execute_result",
          "data": {
            "text/plain": [
              "<matplotlib.axes._subplots.AxesSubplot at 0x7feab9ef5790>"
            ]
          },
          "metadata": {},
          "execution_count": 7
        },
        {
          "output_type": "display_data",
          "data": {
            "text/plain": [
              "<Figure size 864x720 with 6 Axes>"
            ],
            "image/png": "[encoded data removed]"
          },
          "metadata": {
            "needs_background": "light"
          }
        }
      ]
    },
    {
      "cell_type": "code",
      "source": [
        "plt.figure(figsize=(12, 9))\n",
        "sns.histplot(df['Age'],color=\"green\",fill=False)\n"
      ],
      "metadata": {
        "colab": {
          "base_uri": "https://localhost:8080/",
          "height": 569
        },
        "id": "8PbIVZ5yckQM",
        "outputId": "a8f436bd-f1e0-40a8-dde3-bc8e36a7479c"
      },
      "execution_count": 8,
      "outputs": [
        {
          "output_type": "execute_result",
          "data": {
            "text/plain": [
              "<matplotlib.axes._subplots.AxesSubplot at 0x7feaba02d690>"
            ]
          },
          "metadata": {},
          "execution_count": 8
        },
        {
          "output_type": "display_data",
          "data": {
            "text/plain": [
              "<Figure size 864x648 with 1 Axes>"
            ],
            "image/png": "[encoded data removed]"
          },
          "metadata": {
            "needs_background": "light"
          }
        }
      ]
    },
    {
      "cell_type": "code",
      "source": [
        "plt.figure(figsize=(12, 9))\n",
        "sns.histplot(df['Balance'],color=\"orange\",fill=False)"
      ],
      "metadata": {
        "colab": {
          "base_uri": "https://localhost:8080/",
          "height": 569
        },
        "id": "5vMNUiWNodqO",
        "outputId": "a6d2dca7-d238-4032-ba9f-e5512fc2ff29"
      },
      "execution_count": 9,
      "outputs": [
        {
          "output_type": "execute_result",
          "data": {
            "text/plain": [
              "<matplotlib.axes._subplots.AxesSubplot at 0x7feab763e110>"
            ]
          },
          "metadata": {},
          "execution_count": 9
        },
        {
          "output_type": "display_data",
          "data": {
            "text/plain": [
              "<Figure size 864x648 with 1 Axes>"
            ],
            "image/png": "[encoded data removed]"
          },
          "metadata": {
            "needs_background": "light"
          }
        }
      ]
    },
    {
      "cell_type": "code",
      "source": [
        "plt.figure(figsize=(12, 9))\n",
        "sns.histplot(df['EstimatedSalary'],color=\"purple\",fill=False)"
      ],
      "metadata": {
        "colab": {
          "base_uri": "https://localhost:8080/",
          "height": 569
        },
        "id": "fAZhg5oTolpM",
        "outputId": "d2f9bd55-e583-47e9-fc3b-e3e750db0430"
      },
      "execution_count": 10,
      "outputs": [
        {
          "output_type": "execute_result",
          "data": {
            "text/plain": [
              "<matplotlib.axes._subplots.AxesSubplot at 0x7feab6ee7650>"
            ]
          },
          "metadata": {},
          "execution_count": 10
        },
        {
          "output_type": "display_data",
          "data": {
            "text/plain": [
              "<Figure size 864x648 with 1 Axes>"
            ],
            "image/png": "[encoded data removed]"
          },
          "metadata": {
            "needs_background": "light"
          }
        }
      ]
    },
    {
      "cell_type": "code",
      "source": [],
      "metadata": {
        "id": "kWGFesWKexGo"
      },
      "execution_count": 10,
      "outputs": []
    },
    {
      "cell_type": "code",
      "source": [
        "#Cleansing+Normalize"
      ],
      "metadata": {
        "id": "1u9ZYf67wUCt"
      },
      "execution_count": 11,
      "outputs": []
    },
    {
      "cell_type": "code",
      "source": [
        "df.drop(columns=['RowNumber', 'CustomerId','Surname'], axis=1, inplace=True)"
      ],
      "metadata": {
        "id": "Xf3fnGagrNI9"
      },
      "execution_count": 12,
      "outputs": []
    },
    {
      "cell_type": "code",
      "source": [
        "df['Gender'].replace(['Female'],0 , inplace=True)"
      ],
      "metadata": {
        "id": "GBMo3U4gkaMD"
      },
      "execution_count": 13,
      "outputs": []
    },
    {
      "cell_type": "code",
      "source": [
        "df['Gender'].replace(['Male'],1 , inplace=True)"
      ],
      "metadata": {
        "id": "pic15Fgin6We"
      },
      "execution_count": 14,
      "outputs": []
    },
    {
      "cell_type": "code",
      "source": [
        "df['Gender'].unique()"
      ],
      "metadata": {
        "colab": {
          "base_uri": "https://localhost:8080/"
        },
        "id": "HgyjOd_ln975",
        "outputId": "647b78da-daa6-4bea-8961-a72b56e8b1d7"
      },
      "execution_count": 15,
      "outputs": [
        {
          "output_type": "execute_result",
          "data": {
            "text/plain": [
              "array([0, 1])"
            ]
          },
          "metadata": {},
          "execution_count": 15
        }
      ]
    },
    {
      "cell_type": "code",
      "source": [
        "dummy=pd.get_dummies(df.Geography)\n",
        "df=pd.concat([df, dummy], axis=1)\n",
        "df.drop('Geography', axis=1, inplace=True)"
      ],
      "metadata": {
        "id": "L3zLqPgtoAVQ"
      },
      "execution_count": 16,
      "outputs": []
    },
    {
      "cell_type": "code",
      "source": [
        "y = df['Exited']\n",
        "df.drop(columns=['Exited'], axis=1, inplace=True)"
      ],
      "metadata": {
        "id": "16EXG91qrrrh"
      },
      "execution_count": 17,
      "outputs": []
    },
    {
      "cell_type": "code",
      "source": [
        "df"
      ],
      "metadata": {
        "colab": {
          "base_uri": "https://localhost:8080/",
          "height": 423
        },
        "id": "kDsQSrD2r2tK",
        "outputId": "2bc0d94a-3025-4768-e5ee-7e8cc2e36ef0"
      },
      "execution_count": 18,
      "outputs": [
        {
          "output_type": "execute_result",
          "data": {
            "text/plain": [
              "      CreditScore  Gender  Age  Tenure    Balance  NumOfProducts  HasCrCard  \\\n",
              "0             619       0   42       2       0.00              1          1   \n",
              "1             608       0   41       1   83807.86              1          0   \n",
              "2             502       0   42       8  159660.80              3          1   \n",
              "3             699       0   39       1       0.00              2          0   \n",
              "4             850       0   43       2  125510.82              1          1   \n",
              "...           ...     ...  ...     ...        ...            ...        ...   \n",
              "9995          771       1   39       5       0.00              2          1   \n",
              "9996          516       1   35      10   57369.61              1          1   \n",
              "9997          709       0   36       7       0.00              1          0   \n",
              "9998          772       1   42       3   75075.31              2          1   \n",
              "9999          792       0   28       4  130142.79              1          1   \n",
              "\n",
              "      IsActiveMember  EstimatedSalary  France  Germany  Spain  \n",
              "0                  1        101348.88       1        0      0  \n",
              "1                  1        112542.58       0        0      1  \n",
              "2                  0        113931.57       1        0      0  \n",
              "3                  0         93826.63       1        0      0  \n",
              "4                  1         79084.10       0        0      1  \n",
              "...              ...              ...     ...      ...    ...  \n",
              "9995               0         96270.64       1        0      0  \n",
              "9996               1        101699.77       1        0      0  \n",
              "9997               1         42085.58       1        0      0  \n",
              "9998               0         92888.52       0        1      0  \n",
              "9999               0         38190.78       1        0      0  \n",
              "\n",
              "[10000 rows x 12 columns]"
            ],
            "text/html": [
              "\n",
              "  <div id=\"df-ff698a1c-9410-46eb-9ddf-cc67e2537d55\">\n",
              "    <div class=\"colab-df-container\">\n",
              "      <div>\n",
              "<style scoped>\n",
              "    .dataframe tbody tr th:only-of-type {\n",
              "        vertical-align: middle;\n",
              "    }\n",
              "\n",
              "    .dataframe tbody tr th {\n",
              "        vertical-align: top;\n",
              "    }\n",
              "\n",
              "    .dataframe thead th {\n",
              "        text-align: right;\n",
              "    }\n",
              "</style>\n",
              "<table border=\"1\" class=\"dataframe\">\n",
              "  <thead>\n",
              "    <tr style=\"text-align: right;\">\n",
              "      <th></th>\n",
              "      <th>CreditScore</th>\n",
              "      <th>Gender</th>\n",
              "      <th>Age</th>\n",
              "      <th>Tenure</th>\n",
              "      <th>Balance</th>\n",
              "      <th>NumOfProducts</th>\n",
              "      <th>HasCrCard</th>\n",
              "      <th>IsActiveMember</th>\n",
              "      <th>EstimatedSalary</th>\n",
              "      <th>France</th>\n",
              "      <th>Germany</th>\n",
              "      <th>Spain</th>\n",
              "    </tr>\n",
              "  </thead>\n",
              "  <tbody>\n",
              "    <tr>\n",
              "      <th>0</th>\n",
              "      <td>619</td>\n",
              "      <td>0</td>\n",
              "      <td>42</td>\n",
              "      <td>2</td>\n",
              "      <td>0.00</td>\n",
              "      <td>1</td>\n",
              "      <td>1</td>\n",
              "      <td>1</td>\n",
              "      <td>101348.88</td>\n",
              "      <td>1</td>\n",
              "      <td>0</td>\n",
              "      <td>0</td>\n",
              "    </tr>\n",
              "    <tr>\n",
              "      <th>1</th>\n",
              "      <td>608</td>\n",
              "      <td>0</td>\n",
              "      <td>41</td>\n",
              "      <td>1</td>\n",
              "      <td>83807.86</td>\n",
              "      <td>1</td>\n",
              "      <td>0</td>\n",
              "      <td>1</td>\n",
              "      <td>112542.58</td>\n",
              "      <td>0</td>\n",
              "      <td>0</td>\n",
              "      <td>1</td>\n",
              "    </tr>\n",
              "    <tr>\n",
              "      <th>2</th>\n",
              "      <td>502</td>\n",
              "      <td>0</td>\n",
              "      <td>42</td>\n",
              "      <td>8</td>\n",
              "      <td>159660.80</td>\n",
              "      <td>3</td>\n",
              "      <td>1</td>\n",
              "      <td>0</td>\n",
              "      <td>113931.57</td>\n",
              "      <td>1</td>\n",
              "      <td>0</td>\n",
              "      <td>0</td>\n",
              "    </tr>\n",
              "    <tr>\n",
              "      <th>3</th>\n",
              "      <td>699</td>\n",
              "      <td>0</td>\n",
              "      <td>39</td>\n",
              "      <td>1</td>\n",
              "      <td>0.00</td>\n",
              "      <td>2</td>\n",
              "      <td>0</td>\n",
              "      <td>0</td>\n",
              "      <td>93826.63</td>\n",
              "      <td>1</td>\n",
              "      <td>0</td>\n",
              "      <td>0</td>\n",
              "    </tr>\n",
              "    <tr>\n",
              "      <th>4</th>\n",
              "      <td>850</td>\n",
              "      <td>0</td>\n",
              "      <td>43</td>\n",
              "      <td>2</td>\n",
              "      <td>125510.82</td>\n",
              "      <td>1</td>\n",
              "      <td>1</td>\n",
              "      <td>1</td>\n",
              "      <td>79084.10</td>\n",
              "      <td>0</td>\n",
              "      <td>0</td>\n",
              "      <td>1</td>\n",
              "    </tr>\n",
              "    <tr>\n",
              "      <th>...</th>\n",
              "      <td>...</td>\n",
              "      <td>...</td>\n",
              "      <td>...</td>\n",
              "      <td>...</td>\n",
              "      <td>...</td>\n",
              "      <td>...</td>\n",
              "      <td>...</td>\n",
              "      <td>...</td>\n",
              "      <td>...</td>\n",
              "      <td>...</td>\n",
              "      <td>...</td>\n",
              "      <td>...</td>\n",
              "    </tr>\n",
              "    <tr>\n",
              "      <th>9995</th>\n",
              "      <td>771</td>\n",
              "      <td>1</td>\n",
              "      <td>39</td>\n",
              "      <td>5</td>\n",
              "      <td>0.00</td>\n",
              "      <td>2</td>\n",
              "      <td>1</td>\n",
              "      <td>0</td>\n",
              "      <td>96270.64</td>\n",
              "      <td>1</td>\n",
              "      <td>0</td>\n",
              "      <td>0</td>\n",
              "    </tr>\n",
              "    <tr>\n",
              "      <th>9996</th>\n",
              "      <td>516</td>\n",
              "      <td>1</td>\n",
              "      <td>35</td>\n",
              "      <td>10</td>\n",
              "      <td>57369.61</td>\n",
              "      <td>1</td>\n",
              "      <td>1</td>\n",
              "      <td>1</td>\n",
              "      <td>101699.77</td>\n",
              "      <td>1</td>\n",
              "      <td>0</td>\n",
              "      <td>0</td>\n",
              "    </tr>\n",
              "    <tr>\n",
              "      <th>9997</th>\n",
              "      <td>709</td>\n",
              "      <td>0</td>\n",
              "      <td>36</td>\n",
              "      <td>7</td>\n",
              "      <td>0.00</td>\n",
              "      <td>1</td>\n",
              "      <td>0</td>\n",
              "      <td>1</td>\n",
              "      <td>42085.58</td>\n",
              "      <td>1</td>\n",
              "      <td>0</td>\n",
              "      <td>0</td>\n",
              "    </tr>\n",
              "    <tr>\n",
              "      <th>9998</th>\n",
              "      <td>772</td>\n",
              "      <td>1</td>\n",
              "      <td>42</td>\n",
              "      <td>3</td>\n",
              "      <td>75075.31</td>\n",
              "      <td>2</td>\n",
              "      <td>1</td>\n",
              "      <td>0</td>\n",
              "      <td>92888.52</td>\n",
              "      <td>0</td>\n",
              "      <td>1</td>\n",
              "      <td>0</td>\n",
              "    </tr>\n",
              "    <tr>\n",
              "      <th>9999</th>\n",
              "      <td>792</td>\n",
              "      <td>0</td>\n",
              "      <td>28</td>\n",
              "      <td>4</td>\n",
              "      <td>130142.79</td>\n",
              "      <td>1</td>\n",
              "      <td>1</td>\n",
              "      <td>0</td>\n",
              "      <td>38190.78</td>\n",
              "      <td>1</td>\n",
              "      <td>0</td>\n",
              "      <td>0</td>\n",
              "    </tr>\n",
              "  </tbody>\n",
              "</table>\n",
              "<p>10000 rows × 12 columns</p>\n",
              "</div>\n",
              "      <button class=\"colab-df-convert\" onclick=\"convertToInteractive('df-ff698a1c-9410-46eb-9ddf-cc67e2537d55')\"\n",
              "              title=\"Convert this dataframe to an interactive table.\"\n",
              "              style=\"display:none;\">\n",
              "        \n",
              "  <svg xmlns=\"http://www.w3.org/2000/svg\" height=\"24px\"viewBox=\"0 0 24 24\"\n",
              "       width=\"24px\">\n",
              "    <path d=\"M0 0h24v24H0V0z\" fill=\"none\"/>\n",
              "    <path d=\"M18.56 5.44l.94 2.06.94-2.06 2.06-.94-2.06-.94-.94-2.06-.94 2.06-2.06.94zm-11 1L8.5 8.5l.94-2.06 2.06-.94-2.06-.94L8.5 2.5l-.94 2.06-2.06.94zm10 10l.94 2.06.94-2.06 2.06-.94-2.06-.94-.94-2.06-.94 2.06-2.06.94z\"/><path d=\"M17.41 7.96l-1.37-1.37c-.4-.4-.92-.59-1.43-.59-.52 0-1.04.2-1.43.59L10.3 9.45l-7.72 7.72c-.78.78-.78 2.05 0 2.83L4 21.41c.39.39.9.59 1.41.59.51 0 1.02-.2 1.41-.59l7.78-7.78 2.81-2.81c.8-.78.8-2.07 0-2.86zM5.41 20L4 18.59l7.72-7.72 1.47 1.35L5.41 20z\"/>\n",
              "  </svg>\n",
              "      </button>\n",
              "      \n",
              "  <style>\n",
              "    .colab-df-container {\n",
              "      display:flex;\n",
              "      flex-wrap:wrap;\n",
              "      gap: 12px;\n",
              "    }\n",
              "\n",
              "    .colab-df-convert {\n",
              "      background-color: #E8F0FE;\n",
              "      border: none;\n",
              "      border-radius: 50%;\n",
              "      cursor: pointer;\n",
              "      display: none;\n",
              "      fill: #1967D2;\n",
              "      height: 32px;\n",
              "      padding: 0 0 0 0;\n",
              "      width: 32px;\n",
              "    }\n",
              "\n",
              "    .colab-df-convert:hover {\n",
              "      background-color: #E2EBFA;\n",
              "      box-shadow: 0px 1px 2px rgba(60, 64, 67, 0.3), 0px 1px 3px 1px rgba(60, 64, 67, 0.15);\n",
              "      fill: #174EA6;\n",
              "    }\n",
              "\n",
              "    [theme=dark] .colab-df-convert {\n",
              "      background-color: #3B4455;\n",
              "      fill: #D2E3FC;\n",
              "    }\n",
              "\n",
              "    [theme=dark] .colab-df-convert:hover {\n",
              "      background-color: #434B5C;\n",
              "      box-shadow: 0px 1px 3px 1px rgba(0, 0, 0, 0.15);\n",
              "      filter: drop-shadow(0px 1px 2px rgba(0, 0, 0, 0.3));\n",
              "      fill: #FFFFFF;\n",
              "    }\n",
              "  </style>\n",
              "\n",
              "      <script>\n",
              "        const buttonEl =\n",
              "          document.querySelector('#df-ff698a1c-9410-46eb-9ddf-cc67e2537d55 button.colab-df-convert');\n",
              "        buttonEl.style.display =\n",
              "          google.colab.kernel.accessAllowed ? 'block' : 'none';\n",
              "\n",
              "        async function convertToInteractive(key) {\n",
              "          const element = document.querySelector('#df-ff698a1c-9410-46eb-9ddf-cc67e2537d55');\n",
              "          const dataTable =\n",
              "            await google.colab.kernel.invokeFunction('convertToInteractive',\n",
              "                                                     [key], {});\n",
              "          if (!dataTable) return;\n",
              "\n",
              "          const docLinkHtml = 'Like what you see? Visit the ' +\n",
              "            '<a target=\"_blank\" href=https://colab.research.google.com/notebooks/data_table.ipynb>data table notebook</a>'\n",
              "            + ' to learn more about interactive tables.';\n",
              "          element.innerHTML = '';\n",
              "          dataTable['output_type'] = 'display_data';\n",
              "          await google.colab.output.renderOutput(dataTable, element);\n",
              "          const docLink = document.createElement('div');\n",
              "          docLink.innerHTML = docLinkHtml;\n",
              "          element.appendChild(docLink);\n",
              "        }\n",
              "      </script>\n",
              "    </div>\n",
              "  </div>\n",
              "  "
            ]
          },
          "metadata": {},
          "execution_count": 18
        }
      ]
    },
    {
      "cell_type": "code",
      "source": [
        "from sklearn import preprocessing\n",
        "from sklearn.preprocessing import MinMaxScaler\n",
        "scalar = preprocessing.MinMaxScaler()\n",
        "col=df.columns\n",
        "df=scalar.fit_transform(df)\n",
        "df=pd.DataFrame(df,columns=col)"
      ],
      "metadata": {
        "id": "hajf8BO80TbT"
      },
      "execution_count": 19,
      "outputs": []
    },
    {
      "cell_type": "code",
      "source": [
        "df=pd.DataFrame(df,columns=col)"
      ],
      "metadata": {
        "id": "DNSc-DUTXuzH"
      },
      "execution_count": 20,
      "outputs": []
    },
    {
      "cell_type": "code",
      "source": [
        "df"
      ],
      "metadata": {
        "colab": {
          "base_uri": "https://localhost:8080/",
          "height": 423
        },
        "id": "GG_cTnI4oLhn",
        "outputId": "19192607-e8d7-468b-91a5-a8130364174f"
      },
      "execution_count": 21,
      "outputs": [
        {
          "output_type": "execute_result",
          "data": {
            "text/plain": [
              "      CreditScore  Gender       Age  Tenure   Balance  NumOfProducts  \\\n",
              "0           0.538     0.0  0.324324     0.2  0.000000       0.000000   \n",
              "1           0.516     0.0  0.310811     0.1  0.334031       0.000000   \n",
              "2           0.304     0.0  0.324324     0.8  0.636357       0.666667   \n",
              "3           0.698     0.0  0.283784     0.1  0.000000       0.333333   \n",
              "4           1.000     0.0  0.337838     0.2  0.500246       0.000000   \n",
              "...           ...     ...       ...     ...       ...            ...   \n",
              "9995        0.842     1.0  0.283784     0.5  0.000000       0.333333   \n",
              "9996        0.332     1.0  0.229730     1.0  0.228657       0.000000   \n",
              "9997        0.718     0.0  0.243243     0.7  0.000000       0.000000   \n",
              "9998        0.844     1.0  0.324324     0.3  0.299226       0.333333   \n",
              "9999        0.884     0.0  0.135135     0.4  0.518708       0.000000   \n",
              "\n",
              "      HasCrCard  IsActiveMember  EstimatedSalary  France  Germany  Spain  \n",
              "0           1.0             1.0         0.506735     1.0      0.0    0.0  \n",
              "1           0.0             1.0         0.562709     0.0      0.0    1.0  \n",
              "2           1.0             0.0         0.569654     1.0      0.0    0.0  \n",
              "3           0.0             0.0         0.469120     1.0      0.0    0.0  \n",
              "4           1.0             1.0         0.395400     0.0      0.0    1.0  \n",
              "...         ...             ...              ...     ...      ...    ...  \n",
              "9995        1.0             0.0         0.481341     1.0      0.0    0.0  \n",
              "9996        1.0             1.0         0.508490     1.0      0.0    0.0  \n",
              "9997        0.0             1.0         0.210390     1.0      0.0    0.0  \n",
              "9998        1.0             0.0         0.464429     0.0      1.0    0.0  \n",
              "9999        1.0             0.0         0.190914     1.0      0.0    0.0  \n",
              "\n",
              "[10000 rows x 12 columns]"
            ],
            "text/html": [
              "\n",
              "  <div id=\"df-f54e939c-3a8d-4e8c-a865-de19abd7c691\">\n",
              "    <div class=\"colab-df-container\">\n",
              "      <div>\n",
              "<style scoped>\n",
              "    .dataframe tbody tr th:only-of-type {\n",
              "        vertical-align: middle;\n",
              "    }\n",
              "\n",
              "    .dataframe tbody tr th {\n",
              "        vertical-align: top;\n",
              "    }\n",
              "\n",
              "    .dataframe thead th {\n",
              "        text-align: right;\n",
              "    }\n",
              "</style>\n",
              "<table border=\"1\" class=\"dataframe\">\n",
              "  <thead>\n",
              "    <tr style=\"text-align: right;\">\n",
              "      <th></th>\n",
              "      <th>CreditScore</th>\n",
              "      <th>Gender</th>\n",
              "      <th>Age</th>\n",
              "      <th>Tenure</th>\n",
              "      <th>Balance</th>\n",
              "      <th>NumOfProducts</th>\n",
              "      <th>HasCrCard</th>\n",
              "      <th>IsActiveMember</th>\n",
              "      <th>EstimatedSalary</th>\n",
              "      <th>France</th>\n",
              "      <th>Germany</th>\n",
              "      <th>Spain</th>\n",
              "    </tr>\n",
              "  </thead>\n",
              "  <tbody>\n",
              "    <tr>\n",
              "      <th>0</th>\n",
              "      <td>0.538</td>\n",
              "      <td>0.0</td>\n",
              "      <td>0.324324</td>\n",
              "      <td>0.2</td>\n",
              "      <td>0.000000</td>\n",
              "      <td>0.000000</td>\n",
              "      <td>1.0</td>\n",
              "      <td>1.0</td>\n",
              "      <td>0.506735</td>\n",
              "      <td>1.0</td>\n",
              "      <td>0.0</td>\n",
              "      <td>0.0</td>\n",
              "    </tr>\n",
              "    <tr>\n",
              "      <th>1</th>\n",
              "      <td>0.516</td>\n",
              "      <td>0.0</td>\n",
              "      <td>0.310811</td>\n",
              "      <td>0.1</td>\n",
              "      <td>0.334031</td>\n",
              "      <td>0.000000</td>\n",
              "      <td>0.0</td>\n",
              "      <td>1.0</td>\n",
              "      <td>0.562709</td>\n",
              "      <td>0.0</td>\n",
              "      <td>0.0</td>\n",
              "      <td>1.0</td>\n",
              "    </tr>\n",
              "    <tr>\n",
              "      <th>2</th>\n",
              "      <td>0.304</td>\n",
              "      <td>0.0</td>\n",
              "      <td>0.324324</td>\n",
              "      <td>0.8</td>\n",
              "      <td>0.636357</td>\n",
              "      <td>0.666667</td>\n",
              "      <td>1.0</td>\n",
              "      <td>0.0</td>\n",
              "      <td>0.569654</td>\n",
              "      <td>1.0</td>\n",
              "      <td>0.0</td>\n",
              "      <td>0.0</td>\n",
              "    </tr>\n",
              "    <tr>\n",
              "      <th>3</th>\n",
              "      <td>0.698</td>\n",
              "      <td>0.0</td>\n",
              "      <td>0.283784</td>\n",
              "      <td>0.1</td>\n",
              "      <td>0.000000</td>\n",
              "      <td>0.333333</td>\n",
              "      <td>0.0</td>\n",
              "      <td>0.0</td>\n",
              "      <td>0.469120</td>\n",
              "      <td>1.0</td>\n",
              "      <td>0.0</td>\n",
              "      <td>0.0</td>\n",
              "    </tr>\n",
              "    <tr>\n",
              "      <th>4</th>\n",
              "      <td>1.000</td>\n",
              "      <td>0.0</td>\n",
              "      <td>0.337838</td>\n",
              "      <td>0.2</td>\n",
              "      <td>0.500246</td>\n",
              "      <td>0.000000</td>\n",
              "      <td>1.0</td>\n",
              "      <td>1.0</td>\n",
              "      <td>0.395400</td>\n",
              "      <td>0.0</td>\n",
              "      <td>0.0</td>\n",
              "      <td>1.0</td>\n",
              "    </tr>\n",
              "    <tr>\n",
              "      <th>...</th>\n",
              "      <td>...</td>\n",
              "      <td>...</td>\n",
              "      <td>...</td>\n",
              "      <td>...</td>\n",
              "      <td>...</td>\n",
              "      <td>...</td>\n",
              "      <td>...</td>\n",
              "      <td>...</td>\n",
              "      <td>...</td>\n",
              "      <td>...</td>\n",
              "      <td>...</td>\n",
              "      <td>...</td>\n",
              "    </tr>\n",
              "    <tr>\n",
              "      <th>9995</th>\n",
              "      <td>0.842</td>\n",
              "      <td>1.0</td>\n",
              "      <td>0.283784</td>\n",
              "      <td>0.5</td>\n",
              "      <td>0.000000</td>\n",
              "      <td>0.333333</td>\n",
              "      <td>1.0</td>\n",
              "      <td>0.0</td>\n",
              "      <td>0.481341</td>\n",
              "      <td>1.0</td>\n",
              "      <td>0.0</td>\n",
              "      <td>0.0</td>\n",
              "    </tr>\n",
              "    <tr>\n",
              "      <th>9996</th>\n",
              "      <td>0.332</td>\n",
              "      <td>1.0</td>\n",
              "      <td>0.229730</td>\n",
              "      <td>1.0</td>\n",
              "      <td>0.228657</td>\n",
              "      <td>0.000000</td>\n",
              "      <td>1.0</td>\n",
              "      <td>1.0</td>\n",
              "      <td>0.508490</td>\n",
              "      <td>1.0</td>\n",
              "      <td>0.0</td>\n",
              "      <td>0.0</td>\n",
              "    </tr>\n",
              "    <tr>\n",
              "      <th>9997</th>\n",
              "      <td>0.718</td>\n",
              "      <td>0.0</td>\n",
              "      <td>0.243243</td>\n",
              "      <td>0.7</td>\n",
              "      <td>0.000000</td>\n",
              "      <td>0.000000</td>\n",
              "      <td>0.0</td>\n",
              "      <td>1.0</td>\n",
              "      <td>0.210390</td>\n",
              "      <td>1.0</td>\n",
              "      <td>0.0</td>\n",
              "      <td>0.0</td>\n",
              "    </tr>\n",
              "    <tr>\n",
              "      <th>9998</th>\n",
              "      <td>0.844</td>\n",
              "      <td>1.0</td>\n",
              "      <td>0.324324</td>\n",
              "      <td>0.3</td>\n",
              "      <td>0.299226</td>\n",
              "      <td>0.333333</td>\n",
              "      <td>1.0</td>\n",
              "      <td>0.0</td>\n",
              "      <td>0.464429</td>\n",
              "      <td>0.0</td>\n",
              "      <td>1.0</td>\n",
              "      <td>0.0</td>\n",
              "    </tr>\n",
              "    <tr>\n",
              "      <th>9999</th>\n",
              "      <td>0.884</td>\n",
              "      <td>0.0</td>\n",
              "      <td>0.135135</td>\n",
              "      <td>0.4</td>\n",
              "      <td>0.518708</td>\n",
              "      <td>0.000000</td>\n",
              "      <td>1.0</td>\n",
              "      <td>0.0</td>\n",
              "      <td>0.190914</td>\n",
              "      <td>1.0</td>\n",
              "      <td>0.0</td>\n",
              "      <td>0.0</td>\n",
              "    </tr>\n",
              "  </tbody>\n",
              "</table>\n",
              "<p>10000 rows × 12 columns</p>\n",
              "</div>\n",
              "      <button class=\"colab-df-convert\" onclick=\"convertToInteractive('df-f54e939c-3a8d-4e8c-a865-de19abd7c691')\"\n",
              "              title=\"Convert this dataframe to an interactive table.\"\n",
              "              style=\"display:none;\">\n",
              "        \n",
              "  <svg xmlns=\"http://www.w3.org/2000/svg\" height=\"24px\"viewBox=\"0 0 24 24\"\n",
              "       width=\"24px\">\n",
              "    <path d=\"M0 0h24v24H0V0z\" fill=\"none\"/>\n",
              "    <path d=\"M18.56 5.44l.94 2.06.94-2.06 2.06-.94-2.06-.94-.94-2.06-.94 2.06-2.06.94zm-11 1L8.5 8.5l.94-2.06 2.06-.94-2.06-.94L8.5 2.5l-.94 2.06-2.06.94zm10 10l.94 2.06.94-2.06 2.06-.94-2.06-.94-.94-2.06-.94 2.06-2.06.94z\"/><path d=\"M17.41 7.96l-1.37-1.37c-.4-.4-.92-.59-1.43-.59-.52 0-1.04.2-1.43.59L10.3 9.45l-7.72 7.72c-.78.78-.78 2.05 0 2.83L4 21.41c.39.39.9.59 1.41.59.51 0 1.02-.2 1.41-.59l7.78-7.78 2.81-2.81c.8-.78.8-2.07 0-2.86zM5.41 20L4 18.59l7.72-7.72 1.47 1.35L5.41 20z\"/>\n",
              "  </svg>\n",
              "      </button>\n",
              "      \n",
              "  <style>\n",
              "    .colab-df-container {\n",
              "      display:flex;\n",
              "      flex-wrap:wrap;\n",
              "      gap: 12px;\n",
              "    }\n",
              "\n",
              "    .colab-df-convert {\n",
              "      background-color: #E8F0FE;\n",
              "      border: none;\n",
              "      border-radius: 50%;\n",
              "      cursor: pointer;\n",
              "      display: none;\n",
              "      fill: #1967D2;\n",
              "      height: 32px;\n",
              "      padding: 0 0 0 0;\n",
              "      width: 32px;\n",
              "    }\n",
              "\n",
              "    .colab-df-convert:hover {\n",
              "      background-color: #E2EBFA;\n",
              "      box-shadow: 0px 1px 2px rgba(60, 64, 67, 0.3), 0px 1px 3px 1px rgba(60, 64, 67, 0.15);\n",
              "      fill: #174EA6;\n",
              "    }\n",
              "\n",
              "    [theme=dark] .colab-df-convert {\n",
              "      background-color: #3B4455;\n",
              "      fill: #D2E3FC;\n",
              "    }\n",
              "\n",
              "    [theme=dark] .colab-df-convert:hover {\n",
              "      background-color: #434B5C;\n",
              "      box-shadow: 0px 1px 3px 1px rgba(0, 0, 0, 0.15);\n",
              "      filter: drop-shadow(0px 1px 2px rgba(0, 0, 0, 0.3));\n",
              "      fill: #FFFFFF;\n",
              "    }\n",
              "  </style>\n",
              "\n",
              "      <script>\n",
              "        const buttonEl =\n",
              "          document.querySelector('#df-f54e939c-3a8d-4e8c-a865-de19abd7c691 button.colab-df-convert');\n",
              "        buttonEl.style.display =\n",
              "          google.colab.kernel.accessAllowed ? 'block' : 'none';\n",
              "\n",
              "        async function convertToInteractive(key) {\n",
              "          const element = document.querySelector('#df-f54e939c-3a8d-4e8c-a865-de19abd7c691');\n",
              "          const dataTable =\n",
              "            await google.colab.kernel.invokeFunction('convertToInteractive',\n",
              "                                                     [key], {});\n",
              "          if (!dataTable) return;\n",
              "\n",
              "          const docLinkHtml = 'Like what you see? Visit the ' +\n",
              "            '<a target=\"_blank\" href=https://colab.research.google.com/notebooks/data_table.ipynb>data table notebook</a>'\n",
              "            + ' to learn more about interactive tables.';\n",
              "          element.innerHTML = '';\n",
              "          dataTable['output_type'] = 'display_data';\n",
              "          await google.colab.output.renderOutput(dataTable, element);\n",
              "          const docLink = document.createElement('div');\n",
              "          docLink.innerHTML = docLinkHtml;\n",
              "          element.appendChild(docLink);\n",
              "        }\n",
              "      </script>\n",
              "    </div>\n",
              "  </div>\n",
              "  "
            ]
          },
          "metadata": {},
          "execution_count": 21
        }
      ]
    },
    {
      "cell_type": "code",
      "source": [
        "from imblearn.over_sampling import SMOTE\n",
        "smote=SMOTE(sampling_strategy='auto',k_neighbors=1,random_state=1234)\n",
        "X_data, Y_data = smote.fit_resample(df,y)"
      ],
      "metadata": {
        "id": "EAGrE6tudZus"
      },
      "execution_count": 22,
      "outputs": []
    },
    {
      "cell_type": "code",
      "source": [
        "X_data"
      ],
      "metadata": {
        "colab": {
          "base_uri": "https://localhost:8080/",
          "height": 423
        },
        "id": "vuof2-kuheQm",
        "outputId": "1591c9bd-a7e6-4197-d814-324c5380f2a5"
      },
      "execution_count": 23,
      "outputs": [
        {
          "output_type": "execute_result",
          "data": {
            "text/plain": [
              "       CreditScore  Gender       Age    Tenure   Balance  NumOfProducts  \\\n",
              "0         0.538000     0.0  0.324324  0.200000  0.000000       0.000000   \n",
              "1         0.516000     0.0  0.310811  0.100000  0.334031       0.000000   \n",
              "2         0.304000     0.0  0.324324  0.800000  0.636357       0.666667   \n",
              "3         0.698000     0.0  0.283784  0.100000  0.000000       0.333333   \n",
              "4         1.000000     0.0  0.337838  0.200000  0.500246       0.000000   \n",
              "...            ...     ...       ...       ...       ...            ...   \n",
              "15921     0.767611     1.0  0.328417  0.257571  0.324116       1.000000   \n",
              "15922     0.597589     1.0  0.383748  0.440066  0.259230       0.000000   \n",
              "15923     0.620099     0.0  0.274668  0.343230  0.710974       0.261284   \n",
              "15924     0.559889     1.0  0.240673  0.861966  0.406919       0.666667   \n",
              "15925     0.914163     0.0  0.280563  0.900000  0.515473       0.000000   \n",
              "\n",
              "       HasCrCard  IsActiveMember  EstimatedSalary  France  Germany  Spain  \n",
              "0            1.0             1.0         0.506735     1.0      0.0    0.0  \n",
              "1            0.0             1.0         0.562709     0.0      0.0    1.0  \n",
              "2            1.0             0.0         0.569654     1.0      0.0    0.0  \n",
              "3            0.0             0.0         0.469120     1.0      0.0    0.0  \n",
              "4            1.0             1.0         0.395400     0.0      0.0    1.0  \n",
              "...          ...             ...              ...     ...      ...    ...  \n",
              "15921        0.0             1.0         0.595198     1.0      0.0    0.0  \n",
              "15922        1.0             0.0         0.806163     1.0      0.0    0.0  \n",
              "15923        0.0             0.0         0.318542     1.0      0.0    0.0  \n",
              "15924        1.0             0.0         0.664902     1.0      0.0    0.0  \n",
              "15925        1.0             0.0         0.134447     1.0      0.0    0.0  \n",
              "\n",
              "[15926 rows x 12 columns]"
            ],
            "text/html": [
              "\n",
              "  <div id=\"df-8b7cfb31-3da0-4d35-b144-ede1cc5a19fe\">\n",
              "    <div class=\"colab-df-container\">\n",
              "      <div>\n",
              "<style scoped>\n",
              "    .dataframe tbody tr th:only-of-type {\n",
              "        vertical-align: middle;\n",
              "    }\n",
              "\n",
              "    .dataframe tbody tr th {\n",
              "        vertical-align: top;\n",
              "    }\n",
              "\n",
              "    .dataframe thead th {\n",
              "        text-align: right;\n",
              "    }\n",
              "</style>\n",
              "<table border=\"1\" class=\"dataframe\">\n",
              "  <thead>\n",
              "    <tr style=\"text-align: right;\">\n",
              "      <th></th>\n",
              "      <th>CreditScore</th>\n",
              "      <th>Gender</th>\n",
              "      <th>Age</th>\n",
              "      <th>Tenure</th>\n",
              "      <th>Balance</th>\n",
              "      <th>NumOfProducts</th>\n",
              "      <th>HasCrCard</th>\n",
              "      <th>IsActiveMember</th>\n",
              "      <th>EstimatedSalary</th>\n",
              "      <th>France</th>\n",
              "      <th>Germany</th>\n",
              "      <th>Spain</th>\n",
              "    </tr>\n",
              "  </thead>\n",
              "  <tbody>\n",
              "    <tr>\n",
              "      <th>0</th>\n",
              "      <td>0.538000</td>\n",
              "      <td>0.0</td>\n",
              "      <td>0.324324</td>\n",
              "      <td>0.200000</td>\n",
              "      <td>0.000000</td>\n",
              "      <td>0.000000</td>\n",
              "      <td>1.0</td>\n",
              "      <td>1.0</td>\n",
              "      <td>0.506735</td>\n",
              "      <td>1.0</td>\n",
              "      <td>0.0</td>\n",
              "      <td>0.0</td>\n",
              "    </tr>\n",
              "    <tr>\n",
              "      <th>1</th>\n",
              "      <td>0.516000</td>\n",
              "      <td>0.0</td>\n",
              "      <td>0.310811</td>\n",
              "      <td>0.100000</td>\n",
              "      <td>0.334031</td>\n",
              "      <td>0.000000</td>\n",
              "      <td>0.0</td>\n",
              "      <td>1.0</td>\n",
              "      <td>0.562709</td>\n",
              "      <td>0.0</td>\n",
              "      <td>0.0</td>\n",
              "      <td>1.0</td>\n",
              "    </tr>\n",
              "    <tr>\n",
              "      <th>2</th>\n",
              "      <td>0.304000</td>\n",
              "      <td>0.0</td>\n",
              "      <td>0.324324</td>\n",
              "      <td>0.800000</td>\n",
              "      <td>0.636357</td>\n",
              "      <td>0.666667</td>\n",
              "      <td>1.0</td>\n",
              "      <td>0.0</td>\n",
              "      <td>0.569654</td>\n",
              "      <td>1.0</td>\n",
              "      <td>0.0</td>\n",
              "      <td>0.0</td>\n",
              "    </tr>\n",
              "    <tr>\n",
              "      <th>3</th>\n",
              "      <td>0.698000</td>\n",
              "      <td>0.0</td>\n",
              "      <td>0.283784</td>\n",
              "      <td>0.100000</td>\n",
              "      <td>0.000000</td>\n",
              "      <td>0.333333</td>\n",
              "      <td>0.0</td>\n",
              "      <td>0.0</td>\n",
              "      <td>0.469120</td>\n",
              "      <td>1.0</td>\n",
              "      <td>0.0</td>\n",
              "      <td>0.0</td>\n",
              "    </tr>\n",
              "    <tr>\n",
              "      <th>4</th>\n",
              "      <td>1.000000</td>\n",
              "      <td>0.0</td>\n",
              "      <td>0.337838</td>\n",
              "      <td>0.200000</td>\n",
              "      <td>0.500246</td>\n",
              "      <td>0.000000</td>\n",
              "      <td>1.0</td>\n",
              "      <td>1.0</td>\n",
              "      <td>0.395400</td>\n",
              "      <td>0.0</td>\n",
              "      <td>0.0</td>\n",
              "      <td>1.0</td>\n",
              "    </tr>\n",
              "    <tr>\n",
              "      <th>...</th>\n",
              "      <td>...</td>\n",
              "      <td>...</td>\n",
              "      <td>...</td>\n",
              "      <td>...</td>\n",
              "      <td>...</td>\n",
              "      <td>...</td>\n",
              "      <td>...</td>\n",
              "      <td>...</td>\n",
              "      <td>...</td>\n",
              "      <td>...</td>\n",
              "      <td>...</td>\n",
              "      <td>...</td>\n",
              "    </tr>\n",
              "    <tr>\n",
              "      <th>15921</th>\n",
              "      <td>0.767611</td>\n",
              "      <td>1.0</td>\n",
              "      <td>0.328417</td>\n",
              "      <td>0.257571</td>\n",
              "      <td>0.324116</td>\n",
              "      <td>1.000000</td>\n",
              "      <td>0.0</td>\n",
              "      <td>1.0</td>\n",
              "      <td>0.595198</td>\n",
              "      <td>1.0</td>\n",
              "      <td>0.0</td>\n",
              "      <td>0.0</td>\n",
              "    </tr>\n",
              "    <tr>\n",
              "      <th>15922</th>\n",
              "      <td>0.597589</td>\n",
              "      <td>1.0</td>\n",
              "      <td>0.383748</td>\n",
              "      <td>0.440066</td>\n",
              "      <td>0.259230</td>\n",
              "      <td>0.000000</td>\n",
              "      <td>1.0</td>\n",
              "      <td>0.0</td>\n",
              "      <td>0.806163</td>\n",
              "      <td>1.0</td>\n",
              "      <td>0.0</td>\n",
              "      <td>0.0</td>\n",
              "    </tr>\n",
              "    <tr>\n",
              "      <th>15923</th>\n",
              "      <td>0.620099</td>\n",
              "      <td>0.0</td>\n",
              "      <td>0.274668</td>\n",
              "      <td>0.343230</td>\n",
              "      <td>0.710974</td>\n",
              "      <td>0.261284</td>\n",
              "      <td>0.0</td>\n",
              "      <td>0.0</td>\n",
              "      <td>0.318542</td>\n",
              "      <td>1.0</td>\n",
              "      <td>0.0</td>\n",
              "      <td>0.0</td>\n",
              "    </tr>\n",
              "    <tr>\n",
              "      <th>15924</th>\n",
              "      <td>0.559889</td>\n",
              "      <td>1.0</td>\n",
              "      <td>0.240673</td>\n",
              "      <td>0.861966</td>\n",
              "      <td>0.406919</td>\n",
              "      <td>0.666667</td>\n",
              "      <td>1.0</td>\n",
              "      <td>0.0</td>\n",
              "      <td>0.664902</td>\n",
              "      <td>1.0</td>\n",
              "      <td>0.0</td>\n",
              "      <td>0.0</td>\n",
              "    </tr>\n",
              "    <tr>\n",
              "      <th>15925</th>\n",
              "      <td>0.914163</td>\n",
              "      <td>0.0</td>\n",
              "      <td>0.280563</td>\n",
              "      <td>0.900000</td>\n",
              "      <td>0.515473</td>\n",
              "      <td>0.000000</td>\n",
              "      <td>1.0</td>\n",
              "      <td>0.0</td>\n",
              "      <td>0.134447</td>\n",
              "      <td>1.0</td>\n",
              "      <td>0.0</td>\n",
              "      <td>0.0</td>\n",
              "    </tr>\n",
              "  </tbody>\n",
              "</table>\n",
              "<p>15926 rows × 12 columns</p>\n",
              "</div>\n",
              "      <button class=\"colab-df-convert\" onclick=\"convertToInteractive('df-8b7cfb31-3da0-4d35-b144-ede1cc5a19fe')\"\n",
              "              title=\"Convert this dataframe to an interactive table.\"\n",
              "              style=\"display:none;\">\n",
              "        \n",
              "  <svg xmlns=\"http://www.w3.org/2000/svg\" height=\"24px\"viewBox=\"0 0 24 24\"\n",
              "       width=\"24px\">\n",
              "    <path d=\"M0 0h24v24H0V0z\" fill=\"none\"/>\n",
              "    <path d=\"M18.56 5.44l.94 2.06.94-2.06 2.06-.94-2.06-.94-.94-2.06-.94 2.06-2.06.94zm-11 1L8.5 8.5l.94-2.06 2.06-.94-2.06-.94L8.5 2.5l-.94 2.06-2.06.94zm10 10l.94 2.06.94-2.06 2.06-.94-2.06-.94-.94-2.06-.94 2.06-2.06.94z\"/><path d=\"M17.41 7.96l-1.37-1.37c-.4-.4-.92-.59-1.43-.59-.52 0-1.04.2-1.43.59L10.3 9.45l-7.72 7.72c-.78.78-.78 2.05 0 2.83L4 21.41c.39.39.9.59 1.41.59.51 0 1.02-.2 1.41-.59l7.78-7.78 2.81-2.81c.8-.78.8-2.07 0-2.86zM5.41 20L4 18.59l7.72-7.72 1.47 1.35L5.41 20z\"/>\n",
              "  </svg>\n",
              "      </button>\n",
              "      \n",
              "  <style>\n",
              "    .colab-df-container {\n",
              "      display:flex;\n",
              "      flex-wrap:wrap;\n",
              "      gap: 12px;\n",
              "    }\n",
              "\n",
              "    .colab-df-convert {\n",
              "      background-color: #E8F0FE;\n",
              "      border: none;\n",
              "      border-radius: 50%;\n",
              "      cursor: pointer;\n",
              "      display: none;\n",
              "      fill: #1967D2;\n",
              "      height: 32px;\n",
              "      padding: 0 0 0 0;\n",
              "      width: 32px;\n",
              "    }\n",
              "\n",
              "    .colab-df-convert:hover {\n",
              "      background-color: #E2EBFA;\n",
              "      box-shadow: 0px 1px 2px rgba(60, 64, 67, 0.3), 0px 1px 3px 1px rgba(60, 64, 67, 0.15);\n",
              "      fill: #174EA6;\n",
              "    }\n",
              "\n",
              "    [theme=dark] .colab-df-convert {\n",
              "      background-color: #3B4455;\n",
              "      fill: #D2E3FC;\n",
              "    }\n",
              "\n",
              "    [theme=dark] .colab-df-convert:hover {\n",
              "      background-color: #434B5C;\n",
              "      box-shadow: 0px 1px 3px 1px rgba(0, 0, 0, 0.15);\n",
              "      filter: drop-shadow(0px 1px 2px rgba(0, 0, 0, 0.3));\n",
              "      fill: #FFFFFF;\n",
              "    }\n",
              "  </style>\n",
              "\n",
              "      <script>\n",
              "        const buttonEl =\n",
              "          document.querySelector('#df-8b7cfb31-3da0-4d35-b144-ede1cc5a19fe button.colab-df-convert');\n",
              "        buttonEl.style.display =\n",
              "          google.colab.kernel.accessAllowed ? 'block' : 'none';\n",
              "\n",
              "        async function convertToInteractive(key) {\n",
              "          const element = document.querySelector('#df-8b7cfb31-3da0-4d35-b144-ede1cc5a19fe');\n",
              "          const dataTable =\n",
              "            await google.colab.kernel.invokeFunction('convertToInteractive',\n",
              "                                                     [key], {});\n",
              "          if (!dataTable) return;\n",
              "\n",
              "          const docLinkHtml = 'Like what you see? Visit the ' +\n",
              "            '<a target=\"_blank\" href=https://colab.research.google.com/notebooks/data_table.ipynb>data table notebook</a>'\n",
              "            + ' to learn more about interactive tables.';\n",
              "          element.innerHTML = '';\n",
              "          dataTable['output_type'] = 'display_data';\n",
              "          await google.colab.output.renderOutput(dataTable, element);\n",
              "          const docLink = document.createElement('div');\n",
              "          docLink.innerHTML = docLinkHtml;\n",
              "          element.appendChild(docLink);\n",
              "        }\n",
              "      </script>\n",
              "    </div>\n",
              "  </div>\n",
              "  "
            ]
          },
          "metadata": {},
          "execution_count": 23
        }
      ]
    },
    {
      "cell_type": "code",
      "source": [
        "sns.countplot(Y_data)"
      ],
      "metadata": {
        "colab": {
          "base_uri": "https://localhost:8080/",
          "height": 353
        },
        "id": "n0yXHl-sfoj1",
        "outputId": "66e3496b-c126-4453-bb9a-d77c38beba6c"
      },
      "execution_count": 24,
      "outputs": [
        {
          "output_type": "stream",
          "name": "stderr",
          "text": [
            "/usr/local/lib/python3.7/dist-packages/seaborn/_decorators.py:43: FutureWarning: Pass the following variable as a keyword arg: x. From version 0.12, the only valid positional argument will be `data`, and passing other arguments without an explicit keyword will result in an error or misinterpretation.\n",
            "  FutureWarning\n"
          ]
        },
        {
          "output_type": "execute_result",
          "data": {
            "text/plain": [
              "<matplotlib.axes._subplots.AxesSubplot at 0x7feab576c450>"
            ]
          },
          "metadata": {},
          "execution_count": 24
        },
        {
          "output_type": "display_data",
          "data": {
            "text/plain": [
              "<Figure size 432x288 with 1 Axes>"
            ],
            "image/png": "[encoded data removed]"
          },
          "metadata": {
            "needs_background": "light"
          }
        }
      ]
    },
    {
      "cell_type": "code",
      "source": [
        "#ML"
      ],
      "metadata": {
        "id": "UO5ofEyAwQWm"
      },
      "execution_count": 25,
      "outputs": []
    },
    {
      "cell_type": "code",
      "source": [
        "from sklearn.model_selection import train_test_split\n",
        "X_train, X_test, Y_train, Y_test = train_test_split(X_data , Y_data , test_size = 0.3, random_state = 0)"
      ],
      "metadata": {
        "id": "AgVobuzB0WZT"
      },
      "execution_count": 26,
      "outputs": []
    },
    {
      "cell_type": "code",
      "source": [
        "from sklearn import metrics\n",
        "from sklearn.metrics import classification_report , accuracy_score , roc_curve , roc_auc_score , confusion_matrix"
      ],
      "metadata": {
        "id": "GGk8He4O7-9M"
      },
      "execution_count": 27,
      "outputs": []
    },
    {
      "cell_type": "code",
      "source": [
        "def predict_y(X_test,model):\n",
        "  if str(type(model)) == \"<class 'keras.engine.sequential.Sequential'>\":\n",
        "    Y_predict = model.predict(X_test)\n",
        "    for i in range(0, len(Y_predict)):\n",
        "      if Y_predict[i] > 0.5:\n",
        "        Y_predict[i] = 1\n",
        "      else:\n",
        "        Y_predict[i] = 0\n",
        "  else:\n",
        "    Y_predict=model.predict(X_test)\n",
        "  return Y_predict"
      ],
      "metadata": {
        "id": "60Mx7Nscp2i5"
      },
      "execution_count": 28,
      "outputs": []
    },
    {
      "cell_type": "code",
      "source": [
        "def acc_score(X_test,Y_test,model):\n",
        "  Y_predict = predict_y(X_test,model)\n",
        "  acc = accuracy_score(Y_test, Y_predict)\n",
        "  print(f\"Accuracy = {acc*100:.2f}%\")\n",
        "\n",
        "def class_report (X_test,Y_test,model):\n",
        "  Y_predict = predict_y(X_test,model)\n",
        "  print(f'\\nClassification Report\\n')\n",
        "  print(classification_report(Y_test,Y_predict))\n",
        "\n",
        "'''\n",
        "  #code for indent report problem below\n",
        "  rp=classification_report(Y_test,Y_predict,output_dict=True)\n",
        "  rpd=pd.DataFrame(rp).transpose()\n",
        "  rpd.rename(index={'0.0':'retrained','1.0':'closed'},inplace=True)\n",
        "  #rpd.drop(index='accuracy',inplace=True)\n",
        "  rpd = rpd.astype({'support':'int'})\n",
        "  pd.set_option('display.float_format', '{:.4f}'.format)\n",
        "  print(f'\\nClassification Report\\n')\n",
        "  mx=rpd['support'].max()\n",
        "  rpd['support'].replace(0,mx,inplace=True)\n",
        "  display(rpd)\n",
        "'''\n",
        "\n",
        "def plot_crv(X_test,Y_test,model):\n",
        "  Prob_Y_predict = model.predict_proba(X_test)[::,1]\n",
        "  print(f\"\\nAUC_ROC = {roc_auc_score(Y_test,Prob_Y_predict)*100:.2f}%\\n\")\n",
        "  fpr, tpr, _ = metrics.roc_curve(Y_test,  Prob_Y_predict)\n",
        "  plt.plot(fpr,tpr)\n",
        "  plt.plot([0,1], [0,1], 'red')\n",
        "  plt.ylabel('True Positive Rate')\n",
        "  plt.xlabel('False Positive Rate')\n",
        "  plt.show()\n",
        "\n",
        "def plot_cfm(X_test,Y_test,model):\n",
        "  if str(type(model)) == \"<class 'keras.engine.sequential.Sequential'>\":\n",
        "    shd='Purples'\n",
        "  else:\n",
        "    shd='YlGnBu'\n",
        "  Y_predict = predict_y(X_test,model)\n",
        "  cf_matrix = confusion_matrix(Y_test, Y_predict)\n",
        "  print(\"\\nConfusion Matrix\")\n",
        "  print(cf_matrix)\n",
        "  ax = sns.heatmap(cf_matrix, annot=True, cmap=shd,fmt='g')\n",
        "\n",
        "  ax.set_title('Confusion Matrix Heatmap');\n",
        "  ax.set_xlabel('Predicted Values')\n",
        "  ax.set_ylabel('Actual Values ');\n",
        "\n",
        "  ax.xaxis.set_ticklabels(['Retrained','Closed'])\n",
        "  ax.yaxis.set_ticklabels(['Retrained','Closed'])\n",
        "  plt.show()"
      ],
      "metadata": {
        "id": "YmYqd4OY8IUh"
      },
      "execution_count": 29,
      "outputs": []
    },
    {
      "cell_type": "code",
      "source": [
        "from sklearn.tree import DecisionTreeClassifier\n",
        "DT = DecisionTreeClassifier()\n",
        "DT.fit(X_train, Y_train)\n",
        "acc_score(X_test,Y_test,DT)\n",
        "class_report (X_test,Y_test,DT)\n",
        "plot_crv(X_test,Y_test,DT)\n",
        "plot_cfm(X_test,Y_test,DT)\n"
      ],
      "metadata": {
        "colab": {
          "base_uri": "https://localhost:8080/",
          "height": 919
        },
        "id": "ktzbGDZG480a",
        "outputId": "9a5610e6-0478-41a9-9dea-d064981352f2"
      },
      "execution_count": 30,
      "outputs": [
        {
          "output_type": "stream",
          "name": "stdout",
          "text": [
            "Accuracy = 83.19%\n",
            "\n",
            "Classification Report\n",
            "\n",
            "              precision    recall  f1-score   support\n",
            "\n",
            "           0       0.84      0.81      0.83      2384\n",
            "           1       0.82      0.85      0.84      2394\n",
            "\n",
            "    accuracy                           0.83      4778\n",
            "   macro avg       0.83      0.83      0.83      4778\n",
            "weighted avg       0.83      0.83      0.83      4778\n",
            "\n",
            "\n",
            "AUC_ROC = 83.19%\n",
            "\n"
          ]
        },
        {
          "output_type": "display_data",
          "data": {
            "text/plain": [
              "<Figure size 432x288 with 1 Axes>"
            ],
            "image/png": "[encoded data removed]"
          },
          "metadata": {
            "needs_background": "light"
          }
        },
        {
          "output_type": "stream",
          "name": "stdout",
          "text": [
            "\n",
            "Confusion Matrix\n",
            "[[1939  445]\n",
            " [ 358 2036]]\n"
          ]
        },
        {
          "output_type": "display_data",
          "data": {
            "text/plain": [
              "<Figure size 432x288 with 2 Axes>"
            ],
            "image/png": "[encoded data removed]"
          },
          "metadata": {
            "needs_background": "light"
          }
        }
      ]
    },
    {
      "cell_type": "code",
      "source": [
        "from sklearn.ensemble import RandomForestClassifier\n",
        "RF = RandomForestClassifier()\n",
        "RF.fit(X_train, Y_train)\n",
        "acc_score(X_test,Y_test,RF)\n",
        "class_report (X_test,Y_test,RF)\n",
        "plot_crv(X_test,Y_test,RF)\n",
        "plot_cfm(X_test,Y_test,RF)"
      ],
      "metadata": {
        "colab": {
          "base_uri": "https://localhost:8080/",
          "height": 919
        },
        "id": "UFb_ceIe6Lbh",
        "outputId": "c09f9081-dcd3-44f3-dae6-c747bf6e0f49"
      },
      "execution_count": 31,
      "outputs": [
        {
          "output_type": "stream",
          "name": "stdout",
          "text": [
            "Accuracy = 89.56%\n",
            "\n",
            "Classification Report\n",
            "\n",
            "              precision    recall  f1-score   support\n",
            "\n",
            "           0       0.91      0.88      0.89      2384\n",
            "           1       0.88      0.91      0.90      2394\n",
            "\n",
            "    accuracy                           0.90      4778\n",
            "   macro avg       0.90      0.90      0.90      4778\n",
            "weighted avg       0.90      0.90      0.90      4778\n",
            "\n",
            "\n",
            "AUC_ROC = 96.24%\n",
            "\n"
          ]
        },
        {
          "output_type": "display_data",
          "data": {
            "text/plain": [
              "<Figure size 432x288 with 1 Axes>"
            ],
            "image/png": "[encoded data removed]"
          },
          "metadata": {
            "needs_background": "light"
          }
        },
        {
          "output_type": "stream",
          "name": "stdout",
          "text": [
            "\n",
            "Confusion Matrix\n",
            "[[2099  285]\n",
            " [ 214 2180]]\n"
          ]
        },
        {
          "output_type": "display_data",
          "data": {
            "text/plain": [
              "<Figure size 432x288 with 2 Axes>"
            ],
            "image/png": "[encoded data removed]"
          },
          "metadata": {
            "needs_background": "light"
          }
        }
      ]
    },
    {
      "cell_type": "code",
      "source": [
        "from sklearn.ensemble import GradientBoostingClassifier\n",
        "GB = GradientBoostingClassifier()\n",
        "GB.fit(X_train, Y_train)\n",
        "acc_score(X_test,Y_test,GB)\n",
        "class_report (X_test,Y_test,GB)\n",
        "plot_crv(X_test,Y_test,GB)\n",
        "plot_cfm(X_test,Y_test,GB)"
      ],
      "metadata": {
        "colab": {
          "base_uri": "https://localhost:8080/",
          "height": 919
        },
        "id": "6l_OBcITfuUX",
        "outputId": "0e88723a-4ab7-4d6f-c688-8cf85ce1d83e"
      },
      "execution_count": 32,
      "outputs": [
        {
          "output_type": "stream",
          "name": "stdout",
          "text": [
            "Accuracy = 84.72%\n",
            "\n",
            "Classification Report\n",
            "\n",
            "              precision    recall  f1-score   support\n",
            "\n",
            "           0       0.84      0.86      0.85      2384\n",
            "           1       0.85      0.84      0.85      2394\n",
            "\n",
            "    accuracy                           0.85      4778\n",
            "   macro avg       0.85      0.85      0.85      4778\n",
            "weighted avg       0.85      0.85      0.85      4778\n",
            "\n",
            "\n",
            "AUC_ROC = 92.45%\n",
            "\n"
          ]
        },
        {
          "output_type": "display_data",
          "data": {
            "text/plain": [
              "<Figure size 432x288 with 1 Axes>"
            ],
            "image/png": "[encoded data removed]"
          },
          "metadata": {
            "needs_background": "light"
          }
        },
        {
          "output_type": "stream",
          "name": "stdout",
          "text": [
            "\n",
            "Confusion Matrix\n",
            "[[2044  340]\n",
            " [ 390 2004]]\n"
          ]
        },
        {
          "output_type": "display_data",
          "data": {
            "text/plain": [
              "<Figure size 432x288 with 2 Axes>"
            ],
            "image/png": "[encoded data removed]"
          },
          "metadata": {
            "needs_background": "light"
          }
        }
      ]
    },
    {
      "cell_type": "code",
      "source": [
        "from xgboost import XGBClassifier\n",
        "xgb_model = XGBClassifier(learning_rate = 0.1, n_estimators = 180, max_depth = 3)\n",
        "xgb_model.fit(X_train, Y_train)\n",
        "acc_score(X_test,Y_test,xgb_model)\n",
        "class_report (X_test,Y_test,xgb_model)\n",
        "plot_crv(X_test,Y_test,xgb_model)\n",
        "plot_cfm(X_test,Y_test,xgb_model)"
      ],
      "metadata": {
        "colab": {
          "base_uri": "https://localhost:8080/",
          "height": 919
        },
        "id": "xpwj_ak7fvuP",
        "outputId": "e1bcefec-ff34-4b96-e877-b766f96425b8"
      },
      "execution_count": 33,
      "outputs": [
        {
          "output_type": "stream",
          "name": "stdout",
          "text": [
            "Accuracy = 87.53%\n",
            "\n",
            "Classification Report\n",
            "\n",
            "              precision    recall  f1-score   support\n",
            "\n",
            "           0       0.86      0.89      0.88      2384\n",
            "           1       0.89      0.86      0.87      2394\n",
            "\n",
            "    accuracy                           0.88      4778\n",
            "   macro avg       0.88      0.88      0.88      4778\n",
            "weighted avg       0.88      0.88      0.88      4778\n",
            "\n",
            "\n",
            "AUC_ROC = 94.32%\n",
            "\n"
          ]
        },
        {
          "output_type": "display_data",
          "data": {
            "text/plain": [
              "<Figure size 432x288 with 1 Axes>"
            ],
            "image/png": "[encoded data removed]"
          },
          "metadata": {
            "needs_background": "light"
          }
        },
        {
          "output_type": "stream",
          "name": "stdout",
          "text": [
            "\n",
            "Confusion Matrix\n",
            "[[2119  265]\n",
            " [ 331 2063]]\n"
          ]
        },
        {
          "output_type": "display_data",
          "data": {
            "text/plain": [
              "<Figure size 432x288 with 2 Axes>"
            ],
            "image/png": "[encoded data removed]"
          },
          "metadata": {
            "needs_background": "light"
          }
        }
      ]
    },
    {
      "cell_type": "code",
      "source": [
        "#MLP "
      ],
      "metadata": {
        "id": "0HkKv1kcK3ao"
      },
      "execution_count": 34,
      "outputs": []
    },
    {
      "cell_type": "code",
      "source": [
        "X_train = X_train.astype(np.float32)\n",
        "X_test = X_test.astype(np.float32)\n",
        "Y_train = Y_train.astype(np.float32)\n",
        "Y_test = Y_test.astype(np.float32)\n",
        "print(f\"X_train.shape={X_train.shape}\")\n",
        "print(f\"Y_train.shape={Y_train.shape}\")\n",
        "print(f\"X_test.shape={X_test.shape}\")\n",
        "print(f\"Y_test.shape={Y_test.shape}\")"
      ],
      "metadata": {
        "colab": {
          "base_uri": "https://localhost:8080/"
        },
        "id": "qCOdneHfsQOa",
        "outputId": "26a3aea2-89ca-4d13-d382-773f6d2ae831"
      },
      "execution_count": 35,
      "outputs": [
        {
          "output_type": "stream",
          "name": "stdout",
          "text": [
            "X_train.shape=(11148, 12)\n",
            "Y_train.shape=(11148,)\n",
            "X_test.shape=(4778, 12)\n",
            "Y_test.shape=(4778,)\n"
          ]
        }
      ]
    },
    {
      "cell_type": "code",
      "source": [
        "np.random.seed(1150)\n",
        "tf.random.set_seed(1112)"
      ],
      "metadata": {
        "id": "w96uM-0pEiat"
      },
      "execution_count": 36,
      "outputs": []
    },
    {
      "cell_type": "code",
      "source": [
        "import tensorflow as tf\n",
        "from tensorflow.keras.models import Sequential\n",
        "from tensorflow.keras.layers import Dense, Activation"
      ],
      "metadata": {
        "id": "UxG51eE-zKc1"
      },
      "execution_count": 37,
      "outputs": []
    },
    {
      "cell_type": "code",
      "source": [
        "mlp_model = tf.keras.models.Sequential()\n",
        "\n",
        "# Input layer\n",
        "mlp_model.add( tf.keras.Input(shape=(12,)) )\n",
        "\n",
        "# Hidden layer\n",
        "mlp_model.add( tf.keras.layers.Dense(32, activation='relu', name='hidden1') )  \n",
        "mlp_model.add( tf.keras.layers.Dense(16, activation='relu', name='hidden2') )   \n",
        "mlp_model.add( tf.keras.layers.Dense(8, activation='relu', name='hidden3') )   \n",
        "mlp_model.add( tf.keras.layers.Dense(4, activation='relu', name='hidden4') )   \n",
        "mlp_model.add( tf.keras.layers.Dense(2, activation='relu', name='hidden5') )   \n",
        "\n",
        "# Output layer\n",
        "mlp_model.add(Dense(1, activation = 'sigmoid'))\n",
        "\n",
        "\n",
        "mlp_model.summary()"
      ],
      "metadata": {
        "colab": {
          "base_uri": "https://localhost:8080/"
        },
        "id": "NqLdpTyqwjAL",
        "outputId": "802b65f5-745d-4f94-f415-6e35f7eef912"
      },
      "execution_count": 38,
      "outputs": [
        {
          "output_type": "stream",
          "name": "stdout",
          "text": [
            "Model: \"sequential\"\n",
            "_________________________________________________________________\n",
            " Layer (type)                Output Shape              Param #   \n",
            "=================================================================\n",
            " hidden1 (Dense)             (None, 32)                416       \n",
            "                                                                 \n",
            " hidden2 (Dense)             (None, 16)                528       \n",
            "                                                                 \n",
            " hidden3 (Dense)             (None, 8)                 136       \n",
            "                                                                 \n",
            " hidden4 (Dense)             (None, 4)                 36        \n",
            "                                                                 \n",
            " hidden5 (Dense)             (None, 2)                 10        \n",
            "                                                                 \n",
            " dense (Dense)               (None, 1)                 3         \n",
            "                                                                 \n",
            "=================================================================\n",
            "Total params: 1,129\n",
            "Trainable params: 1,129\n",
            "Non-trainable params: 0\n",
            "_________________________________________________________________\n"
          ]
        }
      ]
    },
    {
      "cell_type": "code",
      "source": [
        "mlp_model.compile(optimizer='adam', loss = 'binary_crossentropy',metrics=['acc'])\n",
        "#model.compile( optimizer='adam', loss='sparse_categorical_crossentropy', metrics=['acc'] )"
      ],
      "metadata": {
        "id": "fKhqCYR_2z78"
      },
      "execution_count": 39,
      "outputs": []
    },
    {
      "cell_type": "code",
      "source": [
        "checkpoint_filepath = \"bestmodel_epoch{epoch:02d}_valloss{val_loss:.2f}.hdf5\"\n",
        "model_checkpoint_callback = tf.keras.callbacks.ModelCheckpoint( filepath=checkpoint_filepath,\n",
        "                                                                                              save_weights_only=True,\n",
        "                                                                                              monitor='val_acc',\n",
        "                                                                                              mode='max',\n",
        "                                                                                              save_best_only=True)\n",
        "\n",
        "from keras import callbacks\n",
        "earlystopping = callbacks.EarlyStopping(monitor =\"val_loss\", \n",
        "                                        mode =\"min\", patience = 20, \n",
        "                                        restore_best_weights = True)"
      ],
      "metadata": {
        "id": "B6Kms8Ku7xjM"
      },
      "execution_count": 40,
      "outputs": []
    },
    {
      "cell_type": "code",
      "source": [
        "history = mlp_model.fit ( X_train, Y_train, batch_size=128, epochs=300, verbose=1, validation_split=0.2, callbacks=[model_checkpoint_callback,earlystopping] )"
      ],
      "metadata": {
        "colab": {
          "base_uri": "https://localhost:8080/"
        },
        "id": "fySQLAF-3IeT",
        "outputId": "31bb8ab0-15b3-47d8-f631-c36adfeb1d53"
      },
      "execution_count": 41,
      "outputs": [
        {
          "output_type": "stream",
          "name": "stdout",
          "text": [
            "Epoch 1/300\n",
            "70/70 [==============================] - 3s 12ms/step - loss: 0.6794 - acc: 0.5740 - val_loss: 0.6648 - val_acc: 0.6507\n",
            "Epoch 2/300\n",
            "70/70 [==============================] - 1s 10ms/step - loss: 0.6529 - acc: 0.6607 - val_loss: 0.6430 - val_acc: 0.6744\n",
            "Epoch 3/300\n",
            "70/70 [==============================] - 1s 8ms/step - loss: 0.6341 - acc: 0.6819 - val_loss: 0.6253 - val_acc: 0.6937\n",
            "Epoch 4/300\n",
            "70/70 [==============================] - 1s 8ms/step - loss: 0.6173 - acc: 0.7016 - val_loss: 0.6086 - val_acc: 0.7117\n",
            "Epoch 5/300\n",
            "70/70 [==============================] - 1s 8ms/step - loss: 0.6019 - acc: 0.7132 - val_loss: 0.5983 - val_acc: 0.7130\n",
            "Epoch 6/300\n",
            "70/70 [==============================] - 1s 9ms/step - loss: 0.5926 - acc: 0.7219 - val_loss: 0.5923 - val_acc: 0.7143\n",
            "Epoch 7/300\n",
            "70/70 [==============================] - 0s 7ms/step - loss: 0.5862 - acc: 0.7218 - val_loss: 0.5859 - val_acc: 0.7188\n",
            "Epoch 8/300\n",
            "70/70 [==============================] - 0s 7ms/step - loss: 0.5808 - acc: 0.7264 - val_loss: 0.5825 - val_acc: 0.7206\n",
            "Epoch 9/300\n",
            "70/70 [==============================] - 0s 7ms/step - loss: 0.5735 - acc: 0.7298 - val_loss: 0.5790 - val_acc: 0.7197\n",
            "Epoch 10/300\n",
            "70/70 [==============================] - 1s 10ms/step - loss: 0.5673 - acc: 0.7310 - val_loss: 0.5722 - val_acc: 0.7211\n",
            "Epoch 11/300\n",
            "70/70 [==============================] - 1s 9ms/step - loss: 0.5597 - acc: 0.7373 - val_loss: 0.5545 - val_acc: 0.7354\n",
            "Epoch 12/300\n",
            "70/70 [==============================] - 1s 7ms/step - loss: 0.5460 - acc: 0.7476 - val_loss: 0.5415 - val_acc: 0.7493\n",
            "Epoch 13/300\n",
            "70/70 [==============================] - 0s 7ms/step - loss: 0.5335 - acc: 0.7567 - val_loss: 0.5303 - val_acc: 0.7561\n",
            "Epoch 14/300\n",
            "70/70 [==============================] - 1s 8ms/step - loss: 0.5203 - acc: 0.7671 - val_loss: 0.5211 - val_acc: 0.7592\n",
            "Epoch 15/300\n",
            "70/70 [==============================] - 0s 5ms/step - loss: 0.5110 - acc: 0.7719 - val_loss: 0.5148 - val_acc: 0.7650\n",
            "Epoch 16/300\n",
            "70/70 [==============================] - 0s 5ms/step - loss: 0.5038 - acc: 0.7766 - val_loss: 0.5130 - val_acc: 0.7664\n",
            "Epoch 17/300\n",
            "70/70 [==============================] - 0s 4ms/step - loss: 0.5008 - acc: 0.7793 - val_loss: 0.5066 - val_acc: 0.7668\n",
            "Epoch 18/300\n",
            "70/70 [==============================] - 0s 4ms/step - loss: 0.4975 - acc: 0.7789 - val_loss: 0.4992 - val_acc: 0.7744\n",
            "Epoch 19/300\n",
            "70/70 [==============================] - 0s 4ms/step - loss: 0.4989 - acc: 0.7754 - val_loss: 0.5009 - val_acc: 0.7704\n",
            "Epoch 20/300\n",
            "70/70 [==============================] - 0s 4ms/step - loss: 0.4867 - acc: 0.7852 - val_loss: 0.4959 - val_acc: 0.7776\n",
            "Epoch 21/300\n",
            "70/70 [==============================] - 0s 4ms/step - loss: 0.4857 - acc: 0.7848 - val_loss: 0.4933 - val_acc: 0.7713\n",
            "Epoch 22/300\n",
            "70/70 [==============================] - 0s 4ms/step - loss: 0.4806 - acc: 0.7893 - val_loss: 0.4927 - val_acc: 0.7749\n",
            "Epoch 23/300\n",
            "70/70 [==============================] - 0s 4ms/step - loss: 0.4795 - acc: 0.7893 - val_loss: 0.4935 - val_acc: 0.7758\n",
            "Epoch 24/300\n",
            "70/70 [==============================] - 0s 4ms/step - loss: 0.4777 - acc: 0.7892 - val_loss: 0.4879 - val_acc: 0.7794\n",
            "Epoch 25/300\n",
            "70/70 [==============================] - 0s 4ms/step - loss: 0.4746 - acc: 0.7901 - val_loss: 0.4924 - val_acc: 0.7713\n",
            "Epoch 26/300\n",
            "70/70 [==============================] - 0s 4ms/step - loss: 0.4722 - acc: 0.7911 - val_loss: 0.4852 - val_acc: 0.7767\n",
            "Epoch 27/300\n",
            "70/70 [==============================] - 0s 4ms/step - loss: 0.4690 - acc: 0.7929 - val_loss: 0.4851 - val_acc: 0.7798\n",
            "Epoch 28/300\n",
            "70/70 [==============================] - 0s 4ms/step - loss: 0.4675 - acc: 0.7946 - val_loss: 0.4840 - val_acc: 0.7789\n",
            "Epoch 29/300\n",
            "70/70 [==============================] - 0s 4ms/step - loss: 0.4668 - acc: 0.7919 - val_loss: 0.4885 - val_acc: 0.7717\n",
            "Epoch 30/300\n",
            "70/70 [==============================] - 0s 4ms/step - loss: 0.4661 - acc: 0.7921 - val_loss: 0.4804 - val_acc: 0.7789\n",
            "Epoch 31/300\n",
            "70/70 [==============================] - 0s 4ms/step - loss: 0.4717 - acc: 0.7858 - val_loss: 0.4887 - val_acc: 0.7700\n",
            "Epoch 32/300\n",
            "70/70 [==============================] - 0s 4ms/step - loss: 0.4626 - acc: 0.7946 - val_loss: 0.4786 - val_acc: 0.7794\n",
            "Epoch 33/300\n",
            "70/70 [==============================] - 0s 5ms/step - loss: 0.4606 - acc: 0.7943 - val_loss: 0.4781 - val_acc: 0.7731\n",
            "Epoch 34/300\n",
            "70/70 [==============================] - 0s 4ms/step - loss: 0.4590 - acc: 0.7941 - val_loss: 0.4937 - val_acc: 0.7655\n",
            "Epoch 35/300\n",
            "70/70 [==============================] - 0s 4ms/step - loss: 0.4592 - acc: 0.7996 - val_loss: 0.4738 - val_acc: 0.7812\n",
            "Epoch 36/300\n",
            "70/70 [==============================] - 0s 4ms/step - loss: 0.4543 - acc: 0.7959 - val_loss: 0.4785 - val_acc: 0.7789\n",
            "Epoch 37/300\n",
            "70/70 [==============================] - 0s 4ms/step - loss: 0.4553 - acc: 0.7977 - val_loss: 0.4765 - val_acc: 0.7807\n",
            "Epoch 38/300\n",
            "70/70 [==============================] - 0s 4ms/step - loss: 0.4527 - acc: 0.7950 - val_loss: 0.4712 - val_acc: 0.7758\n",
            "Epoch 39/300\n",
            "70/70 [==============================] - 0s 4ms/step - loss: 0.4534 - acc: 0.7946 - val_loss: 0.4718 - val_acc: 0.7749\n",
            "Epoch 40/300\n",
            "70/70 [==============================] - 0s 4ms/step - loss: 0.4505 - acc: 0.7961 - val_loss: 0.4711 - val_acc: 0.7798\n",
            "Epoch 41/300\n",
            "70/70 [==============================] - 0s 4ms/step - loss: 0.4482 - acc: 0.8006 - val_loss: 0.4672 - val_acc: 0.7807\n",
            "Epoch 42/300\n",
            "70/70 [==============================] - 0s 4ms/step - loss: 0.4453 - acc: 0.7988 - val_loss: 0.4763 - val_acc: 0.7695\n",
            "Epoch 43/300\n",
            "70/70 [==============================] - 0s 4ms/step - loss: 0.4452 - acc: 0.8004 - val_loss: 0.4672 - val_acc: 0.7785\n",
            "Epoch 44/300\n",
            "70/70 [==============================] - 0s 4ms/step - loss: 0.4427 - acc: 0.8005 - val_loss: 0.4702 - val_acc: 0.7776\n",
            "Epoch 45/300\n",
            "70/70 [==============================] - 0s 4ms/step - loss: 0.4422 - acc: 0.8028 - val_loss: 0.4640 - val_acc: 0.7753\n",
            "Epoch 46/300\n",
            "70/70 [==============================] - 0s 4ms/step - loss: 0.4413 - acc: 0.8022 - val_loss: 0.4605 - val_acc: 0.7803\n",
            "Epoch 47/300\n",
            "70/70 [==============================] - 0s 4ms/step - loss: 0.4388 - acc: 0.8014 - val_loss: 0.4601 - val_acc: 0.7816\n",
            "Epoch 48/300\n",
            "70/70 [==============================] - 0s 4ms/step - loss: 0.4381 - acc: 0.8037 - val_loss: 0.4658 - val_acc: 0.7807\n",
            "Epoch 49/300\n",
            "70/70 [==============================] - 0s 4ms/step - loss: 0.4374 - acc: 0.8047 - val_loss: 0.4607 - val_acc: 0.7807\n",
            "Epoch 50/300\n",
            "70/70 [==============================] - 0s 4ms/step - loss: 0.4364 - acc: 0.8049 - val_loss: 0.4607 - val_acc: 0.7776\n",
            "Epoch 51/300\n",
            "70/70 [==============================] - 0s 4ms/step - loss: 0.4339 - acc: 0.8034 - val_loss: 0.4594 - val_acc: 0.7771\n",
            "Epoch 52/300\n",
            "70/70 [==============================] - 0s 4ms/step - loss: 0.4333 - acc: 0.8052 - val_loss: 0.4567 - val_acc: 0.7857\n",
            "Epoch 53/300\n",
            "70/70 [==============================] - 0s 4ms/step - loss: 0.4315 - acc: 0.8048 - val_loss: 0.4642 - val_acc: 0.7789\n",
            "Epoch 54/300\n",
            "70/70 [==============================] - 0s 4ms/step - loss: 0.4337 - acc: 0.8062 - val_loss: 0.4563 - val_acc: 0.7843\n",
            "Epoch 55/300\n",
            "70/70 [==============================] - 0s 4ms/step - loss: 0.4296 - acc: 0.8032 - val_loss: 0.4564 - val_acc: 0.7807\n",
            "Epoch 56/300\n",
            "70/70 [==============================] - 0s 4ms/step - loss: 0.4288 - acc: 0.8026 - val_loss: 0.4514 - val_acc: 0.7834\n",
            "Epoch 57/300\n",
            "70/70 [==============================] - 0s 4ms/step - loss: 0.4289 - acc: 0.8046 - val_loss: 0.4514 - val_acc: 0.7825\n",
            "Epoch 58/300\n",
            "70/70 [==============================] - 0s 4ms/step - loss: 0.4276 - acc: 0.8046 - val_loss: 0.4500 - val_acc: 0.7843\n",
            "Epoch 59/300\n",
            "70/70 [==============================] - 0s 4ms/step - loss: 0.4250 - acc: 0.8099 - val_loss: 0.4534 - val_acc: 0.7865\n",
            "Epoch 60/300\n",
            "70/70 [==============================] - 0s 4ms/step - loss: 0.4257 - acc: 0.8057 - val_loss: 0.4473 - val_acc: 0.7825\n",
            "Epoch 61/300\n",
            "70/70 [==============================] - 0s 4ms/step - loss: 0.4226 - acc: 0.8092 - val_loss: 0.4455 - val_acc: 0.7839\n",
            "Epoch 62/300\n",
            "70/70 [==============================] - 0s 4ms/step - loss: 0.4235 - acc: 0.8068 - val_loss: 0.4469 - val_acc: 0.7857\n",
            "Epoch 63/300\n",
            "70/70 [==============================] - 0s 4ms/step - loss: 0.4233 - acc: 0.8059 - val_loss: 0.4468 - val_acc: 0.7843\n",
            "Epoch 64/300\n",
            "70/70 [==============================] - 0s 4ms/step - loss: 0.4221 - acc: 0.8079 - val_loss: 0.4470 - val_acc: 0.7821\n",
            "Epoch 65/300\n",
            "70/70 [==============================] - 0s 4ms/step - loss: 0.4190 - acc: 0.8087 - val_loss: 0.4471 - val_acc: 0.7852\n",
            "Epoch 66/300\n",
            "70/70 [==============================] - 0s 4ms/step - loss: 0.4169 - acc: 0.8105 - val_loss: 0.4499 - val_acc: 0.7874\n",
            "Epoch 67/300\n",
            "70/70 [==============================] - 0s 4ms/step - loss: 0.4190 - acc: 0.8086 - val_loss: 0.4459 - val_acc: 0.7816\n",
            "Epoch 68/300\n",
            "70/70 [==============================] - 0s 4ms/step - loss: 0.4174 - acc: 0.8115 - val_loss: 0.4564 - val_acc: 0.7852\n",
            "Epoch 69/300\n",
            "70/70 [==============================] - 0s 4ms/step - loss: 0.4174 - acc: 0.8077 - val_loss: 0.4550 - val_acc: 0.7789\n",
            "Epoch 70/300\n",
            "70/70 [==============================] - 0s 4ms/step - loss: 0.4148 - acc: 0.8113 - val_loss: 0.4406 - val_acc: 0.7888\n",
            "Epoch 71/300\n",
            "70/70 [==============================] - 0s 4ms/step - loss: 0.4157 - acc: 0.8109 - val_loss: 0.4423 - val_acc: 0.7830\n",
            "Epoch 72/300\n",
            "70/70 [==============================] - 0s 4ms/step - loss: 0.4129 - acc: 0.8135 - val_loss: 0.4698 - val_acc: 0.7834\n",
            "Epoch 73/300\n",
            "70/70 [==============================] - 0s 4ms/step - loss: 0.4161 - acc: 0.8114 - val_loss: 0.4444 - val_acc: 0.7874\n",
            "Epoch 74/300\n",
            "70/70 [==============================] - 0s 4ms/step - loss: 0.4166 - acc: 0.8093 - val_loss: 0.4464 - val_acc: 0.7879\n",
            "Epoch 75/300\n",
            "70/70 [==============================] - 0s 5ms/step - loss: 0.4117 - acc: 0.8096 - val_loss: 0.4414 - val_acc: 0.7865\n",
            "Epoch 76/300\n",
            "70/70 [==============================] - 0s 4ms/step - loss: 0.4101 - acc: 0.8093 - val_loss: 0.4387 - val_acc: 0.7892\n",
            "Epoch 77/300\n",
            "70/70 [==============================] - 0s 4ms/step - loss: 0.4079 - acc: 0.8134 - val_loss: 0.4413 - val_acc: 0.7857\n",
            "Epoch 78/300\n",
            "70/70 [==============================] - 0s 4ms/step - loss: 0.4079 - acc: 0.8127 - val_loss: 0.4476 - val_acc: 0.7919\n",
            "Epoch 79/300\n",
            "70/70 [==============================] - 0s 4ms/step - loss: 0.4140 - acc: 0.8092 - val_loss: 0.4385 - val_acc: 0.7910\n",
            "Epoch 80/300\n",
            "70/70 [==============================] - 0s 4ms/step - loss: 0.4073 - acc: 0.8135 - val_loss: 0.4370 - val_acc: 0.7879\n",
            "Epoch 81/300\n",
            "70/70 [==============================] - 0s 4ms/step - loss: 0.4076 - acc: 0.8141 - val_loss: 0.4389 - val_acc: 0.7861\n",
            "Epoch 82/300\n",
            "70/70 [==============================] - 0s 4ms/step - loss: 0.4039 - acc: 0.8162 - val_loss: 0.4390 - val_acc: 0.7861\n",
            "Epoch 83/300\n",
            "70/70 [==============================] - 0s 4ms/step - loss: 0.4068 - acc: 0.8154 - val_loss: 0.4421 - val_acc: 0.7897\n",
            "Epoch 84/300\n",
            "70/70 [==============================] - 0s 4ms/step - loss: 0.4060 - acc: 0.8143 - val_loss: 0.4370 - val_acc: 0.7879\n",
            "Epoch 85/300\n",
            "70/70 [==============================] - 0s 4ms/step - loss: 0.4022 - acc: 0.8146 - val_loss: 0.4370 - val_acc: 0.7897\n",
            "Epoch 86/300\n",
            "70/70 [==============================] - 0s 4ms/step - loss: 0.4107 - acc: 0.8079 - val_loss: 0.4414 - val_acc: 0.7848\n",
            "Epoch 87/300\n",
            "70/70 [==============================] - 0s 4ms/step - loss: 0.4025 - acc: 0.8146 - val_loss: 0.4403 - val_acc: 0.7897\n",
            "Epoch 88/300\n",
            "70/70 [==============================] - 0s 4ms/step - loss: 0.4032 - acc: 0.8166 - val_loss: 0.4416 - val_acc: 0.7964\n",
            "Epoch 89/300\n",
            "70/70 [==============================] - 0s 4ms/step - loss: 0.3999 - acc: 0.8182 - val_loss: 0.4355 - val_acc: 0.7955\n",
            "Epoch 90/300\n",
            "70/70 [==============================] - 0s 4ms/step - loss: 0.4010 - acc: 0.8182 - val_loss: 0.4392 - val_acc: 0.7807\n",
            "Epoch 91/300\n",
            "70/70 [==============================] - 0s 4ms/step - loss: 0.3985 - acc: 0.8159 - val_loss: 0.4381 - val_acc: 0.7892\n",
            "Epoch 92/300\n",
            "70/70 [==============================] - 0s 4ms/step - loss: 0.3984 - acc: 0.8177 - val_loss: 0.4387 - val_acc: 0.7888\n",
            "Epoch 93/300\n",
            "70/70 [==============================] - 0s 4ms/step - loss: 0.3978 - acc: 0.8198 - val_loss: 0.4375 - val_acc: 0.7919\n",
            "Epoch 94/300\n",
            "70/70 [==============================] - 0s 4ms/step - loss: 0.3978 - acc: 0.8199 - val_loss: 0.4356 - val_acc: 0.7955\n",
            "Epoch 95/300\n",
            "70/70 [==============================] - 0s 4ms/step - loss: 0.3976 - acc: 0.8176 - val_loss: 0.4377 - val_acc: 0.7924\n",
            "Epoch 96/300\n",
            "70/70 [==============================] - 0s 4ms/step - loss: 0.3987 - acc: 0.8188 - val_loss: 0.4324 - val_acc: 0.7924\n",
            "Epoch 97/300\n",
            "70/70 [==============================] - 0s 4ms/step - loss: 0.3969 - acc: 0.8173 - val_loss: 0.4299 - val_acc: 0.7982\n",
            "Epoch 98/300\n",
            "70/70 [==============================] - 0s 4ms/step - loss: 0.3952 - acc: 0.8198 - val_loss: 0.4328 - val_acc: 0.7982\n",
            "Epoch 99/300\n",
            "70/70 [==============================] - 0s 4ms/step - loss: 0.3958 - acc: 0.8211 - val_loss: 0.4377 - val_acc: 0.7991\n",
            "Epoch 100/300\n",
            "70/70 [==============================] - 0s 4ms/step - loss: 0.3911 - acc: 0.8235 - val_loss: 0.4343 - val_acc: 0.7942\n",
            "Epoch 101/300\n",
            "70/70 [==============================] - 0s 4ms/step - loss: 0.3964 - acc: 0.8183 - val_loss: 0.4327 - val_acc: 0.7982\n",
            "Epoch 102/300\n",
            "70/70 [==============================] - 0s 4ms/step - loss: 0.3981 - acc: 0.8206 - val_loss: 0.4363 - val_acc: 0.8013\n",
            "Epoch 103/300\n",
            "70/70 [==============================] - 0s 4ms/step - loss: 0.3993 - acc: 0.8163 - val_loss: 0.4325 - val_acc: 0.8022\n",
            "Epoch 104/300\n",
            "70/70 [==============================] - 0s 4ms/step - loss: 0.3916 - acc: 0.8233 - val_loss: 0.4326 - val_acc: 0.7987\n",
            "Epoch 105/300\n",
            "70/70 [==============================] - 0s 4ms/step - loss: 0.3924 - acc: 0.8229 - val_loss: 0.4328 - val_acc: 0.7919\n",
            "Epoch 106/300\n",
            "70/70 [==============================] - 0s 4ms/step - loss: 0.3921 - acc: 0.8214 - val_loss: 0.4318 - val_acc: 0.8022\n",
            "Epoch 107/300\n",
            "70/70 [==============================] - 0s 4ms/step - loss: 0.3927 - acc: 0.8214 - val_loss: 0.4413 - val_acc: 0.7906\n",
            "Epoch 108/300\n",
            "70/70 [==============================] - 0s 4ms/step - loss: 0.3931 - acc: 0.8190 - val_loss: 0.4363 - val_acc: 0.7996\n",
            "Epoch 109/300\n",
            "70/70 [==============================] - 0s 4ms/step - loss: 0.3887 - acc: 0.8240 - val_loss: 0.4309 - val_acc: 0.7987\n",
            "Epoch 110/300\n",
            "70/70 [==============================] - 0s 4ms/step - loss: 0.3945 - acc: 0.8199 - val_loss: 0.4321 - val_acc: 0.8013\n",
            "Epoch 111/300\n",
            "70/70 [==============================] - 0s 4ms/step - loss: 0.3922 - acc: 0.8227 - val_loss: 0.4363 - val_acc: 0.7987\n",
            "Epoch 112/300\n",
            "70/70 [==============================] - 0s 4ms/step - loss: 0.3917 - acc: 0.8207 - val_loss: 0.4296 - val_acc: 0.8009\n",
            "Epoch 113/300\n",
            "70/70 [==============================] - 0s 4ms/step - loss: 0.3891 - acc: 0.8228 - val_loss: 0.4304 - val_acc: 0.7960\n",
            "Epoch 114/300\n",
            "70/70 [==============================] - 0s 4ms/step - loss: 0.3881 - acc: 0.8245 - val_loss: 0.4423 - val_acc: 0.7960\n",
            "Epoch 115/300\n",
            "70/70 [==============================] - 0s 4ms/step - loss: 0.3879 - acc: 0.8234 - val_loss: 0.4307 - val_acc: 0.8009\n",
            "Epoch 116/300\n",
            "70/70 [==============================] - 0s 5ms/step - loss: 0.3857 - acc: 0.8244 - val_loss: 0.4309 - val_acc: 0.8040\n",
            "Epoch 117/300\n",
            "70/70 [==============================] - 0s 4ms/step - loss: 0.3897 - acc: 0.8248 - val_loss: 0.4319 - val_acc: 0.7982\n",
            "Epoch 118/300\n",
            "70/70 [==============================] - 0s 4ms/step - loss: 0.3861 - acc: 0.8229 - val_loss: 0.4281 - val_acc: 0.8049\n",
            "Epoch 119/300\n",
            "70/70 [==============================] - 0s 4ms/step - loss: 0.3848 - acc: 0.8265 - val_loss: 0.4387 - val_acc: 0.7946\n",
            "Epoch 120/300\n",
            "70/70 [==============================] - 0s 4ms/step - loss: 0.3877 - acc: 0.8264 - val_loss: 0.4469 - val_acc: 0.7915\n",
            "Epoch 121/300\n",
            "70/70 [==============================] - 0s 4ms/step - loss: 0.3877 - acc: 0.8228 - val_loss: 0.4421 - val_acc: 0.7960\n",
            "Epoch 122/300\n",
            "70/70 [==============================] - 0s 4ms/step - loss: 0.3845 - acc: 0.8252 - val_loss: 0.4264 - val_acc: 0.8022\n",
            "Epoch 123/300\n",
            "70/70 [==============================] - 0s 4ms/step - loss: 0.3839 - acc: 0.8253 - val_loss: 0.4335 - val_acc: 0.8018\n",
            "Epoch 124/300\n",
            "70/70 [==============================] - 0s 4ms/step - loss: 0.3822 - acc: 0.8306 - val_loss: 0.4298 - val_acc: 0.8000\n",
            "Epoch 125/300\n",
            "70/70 [==============================] - 0s 4ms/step - loss: 0.3842 - acc: 0.8253 - val_loss: 0.4277 - val_acc: 0.8018\n",
            "Epoch 126/300\n",
            "70/70 [==============================] - 0s 4ms/step - loss: 0.3827 - acc: 0.8285 - val_loss: 0.4280 - val_acc: 0.8022\n",
            "Epoch 127/300\n",
            "70/70 [==============================] - 0s 4ms/step - loss: 0.3834 - acc: 0.8234 - val_loss: 0.4327 - val_acc: 0.8004\n",
            "Epoch 128/300\n",
            "70/70 [==============================] - 0s 4ms/step - loss: 0.3859 - acc: 0.8226 - val_loss: 0.4269 - val_acc: 0.8009\n",
            "Epoch 129/300\n",
            "70/70 [==============================] - 0s 4ms/step - loss: 0.3816 - acc: 0.8318 - val_loss: 0.4378 - val_acc: 0.8004\n",
            "Epoch 130/300\n",
            "70/70 [==============================] - 0s 4ms/step - loss: 0.3830 - acc: 0.8263 - val_loss: 0.4289 - val_acc: 0.8040\n",
            "Epoch 131/300\n",
            "70/70 [==============================] - 0s 4ms/step - loss: 0.3804 - acc: 0.8278 - val_loss: 0.4259 - val_acc: 0.8004\n",
            "Epoch 132/300\n",
            "70/70 [==============================] - 0s 4ms/step - loss: 0.3815 - acc: 0.8297 - val_loss: 0.4313 - val_acc: 0.8058\n",
            "Epoch 133/300\n",
            "70/70 [==============================] - 0s 4ms/step - loss: 0.3822 - acc: 0.8283 - val_loss: 0.4416 - val_acc: 0.7969\n",
            "Epoch 134/300\n",
            "70/70 [==============================] - 0s 4ms/step - loss: 0.3807 - acc: 0.8281 - val_loss: 0.4364 - val_acc: 0.8009\n",
            "Epoch 135/300\n",
            "70/70 [==============================] - 0s 4ms/step - loss: 0.3798 - acc: 0.8305 - val_loss: 0.4316 - val_acc: 0.7987\n",
            "Epoch 136/300\n",
            "70/70 [==============================] - 0s 4ms/step - loss: 0.3817 - acc: 0.8263 - val_loss: 0.4266 - val_acc: 0.8058\n",
            "Epoch 137/300\n",
            "70/70 [==============================] - 0s 4ms/step - loss: 0.3784 - acc: 0.8297 - val_loss: 0.4304 - val_acc: 0.8027\n",
            "Epoch 138/300\n",
            "70/70 [==============================] - 0s 4ms/step - loss: 0.3795 - acc: 0.8272 - val_loss: 0.4315 - val_acc: 0.8013\n",
            "Epoch 139/300\n",
            "70/70 [==============================] - 0s 4ms/step - loss: 0.3790 - acc: 0.8291 - val_loss: 0.4245 - val_acc: 0.7996\n",
            "Epoch 140/300\n",
            "70/70 [==============================] - 0s 4ms/step - loss: 0.3809 - acc: 0.8280 - val_loss: 0.4418 - val_acc: 0.7906\n",
            "Epoch 141/300\n",
            "70/70 [==============================] - 0s 4ms/step - loss: 0.3779 - acc: 0.8289 - val_loss: 0.4462 - val_acc: 0.7964\n",
            "Epoch 142/300\n",
            "70/70 [==============================] - 0s 4ms/step - loss: 0.3799 - acc: 0.8289 - val_loss: 0.4380 - val_acc: 0.7982\n",
            "Epoch 143/300\n",
            "70/70 [==============================] - 0s 4ms/step - loss: 0.3760 - acc: 0.8299 - val_loss: 0.4314 - val_acc: 0.7964\n",
            "Epoch 144/300\n",
            "70/70 [==============================] - 0s 4ms/step - loss: 0.3787 - acc: 0.8291 - val_loss: 0.4331 - val_acc: 0.8081\n",
            "Epoch 145/300\n",
            "70/70 [==============================] - 0s 4ms/step - loss: 0.3791 - acc: 0.8290 - val_loss: 0.4290 - val_acc: 0.8049\n",
            "Epoch 146/300\n",
            "70/70 [==============================] - 0s 4ms/step - loss: 0.3755 - acc: 0.8315 - val_loss: 0.4351 - val_acc: 0.7996\n",
            "Epoch 147/300\n",
            "70/70 [==============================] - 0s 4ms/step - loss: 0.3756 - acc: 0.8319 - val_loss: 0.4283 - val_acc: 0.7996\n",
            "Epoch 148/300\n",
            "70/70 [==============================] - 0s 4ms/step - loss: 0.3752 - acc: 0.8316 - val_loss: 0.4330 - val_acc: 0.8027\n",
            "Epoch 149/300\n",
            "70/70 [==============================] - 0s 4ms/step - loss: 0.3742 - acc: 0.8310 - val_loss: 0.4329 - val_acc: 0.7960\n",
            "Epoch 150/300\n",
            "70/70 [==============================] - 0s 4ms/step - loss: 0.3771 - acc: 0.8299 - val_loss: 0.4314 - val_acc: 0.7969\n",
            "Epoch 151/300\n",
            "70/70 [==============================] - 0s 4ms/step - loss: 0.3795 - acc: 0.8250 - val_loss: 0.4407 - val_acc: 0.7969\n",
            "Epoch 152/300\n",
            "70/70 [==============================] - 0s 4ms/step - loss: 0.3759 - acc: 0.8311 - val_loss: 0.4233 - val_acc: 0.8031\n",
            "Epoch 153/300\n",
            "70/70 [==============================] - 0s 4ms/step - loss: 0.3752 - acc: 0.8296 - val_loss: 0.4201 - val_acc: 0.8076\n",
            "Epoch 154/300\n",
            "70/70 [==============================] - 0s 4ms/step - loss: 0.3808 - acc: 0.8279 - val_loss: 0.4323 - val_acc: 0.7955\n",
            "Epoch 155/300\n",
            "70/70 [==============================] - 0s 4ms/step - loss: 0.3791 - acc: 0.8283 - val_loss: 0.4259 - val_acc: 0.8067\n",
            "Epoch 156/300\n",
            "70/70 [==============================] - 0s 4ms/step - loss: 0.3706 - acc: 0.8330 - val_loss: 0.4245 - val_acc: 0.8022\n",
            "Epoch 157/300\n",
            "70/70 [==============================] - 0s 4ms/step - loss: 0.3756 - acc: 0.8339 - val_loss: 0.4403 - val_acc: 0.7933\n",
            "Epoch 158/300\n",
            "70/70 [==============================] - 0s 4ms/step - loss: 0.3737 - acc: 0.8329 - val_loss: 0.4259 - val_acc: 0.8090\n",
            "Epoch 159/300\n",
            "70/70 [==============================] - 0s 4ms/step - loss: 0.3737 - acc: 0.8334 - val_loss: 0.4246 - val_acc: 0.8085\n",
            "Epoch 160/300\n",
            "70/70 [==============================] - 0s 4ms/step - loss: 0.3707 - acc: 0.8311 - val_loss: 0.4425 - val_acc: 0.7978\n",
            "Epoch 161/300\n",
            "70/70 [==============================] - 0s 4ms/step - loss: 0.3721 - acc: 0.8325 - val_loss: 0.4275 - val_acc: 0.8076\n",
            "Epoch 162/300\n",
            "70/70 [==============================] - 0s 4ms/step - loss: 0.3717 - acc: 0.8321 - val_loss: 0.4226 - val_acc: 0.8076\n",
            "Epoch 163/300\n",
            "70/70 [==============================] - 0s 4ms/step - loss: 0.3684 - acc: 0.8354 - val_loss: 0.4470 - val_acc: 0.7915\n",
            "Epoch 164/300\n",
            "70/70 [==============================] - 0s 4ms/step - loss: 0.3720 - acc: 0.8317 - val_loss: 0.4227 - val_acc: 0.8063\n",
            "Epoch 165/300\n",
            "70/70 [==============================] - 0s 4ms/step - loss: 0.3755 - acc: 0.8334 - val_loss: 0.4244 - val_acc: 0.8094\n",
            "Epoch 166/300\n",
            "70/70 [==============================] - 0s 4ms/step - loss: 0.3717 - acc: 0.8327 - val_loss: 0.4250 - val_acc: 0.8076\n",
            "Epoch 167/300\n",
            "70/70 [==============================] - 0s 4ms/step - loss: 0.3700 - acc: 0.8348 - val_loss: 0.4214 - val_acc: 0.8067\n",
            "Epoch 168/300\n",
            "70/70 [==============================] - 0s 4ms/step - loss: 0.3695 - acc: 0.8348 - val_loss: 0.4355 - val_acc: 0.7946\n",
            "Epoch 169/300\n",
            "70/70 [==============================] - 0s 4ms/step - loss: 0.3702 - acc: 0.8347 - val_loss: 0.4235 - val_acc: 0.8108\n",
            "Epoch 170/300\n",
            "70/70 [==============================] - 0s 4ms/step - loss: 0.3704 - acc: 0.8327 - val_loss: 0.4319 - val_acc: 0.8000\n",
            "Epoch 171/300\n",
            "70/70 [==============================] - 0s 4ms/step - loss: 0.3690 - acc: 0.8347 - val_loss: 0.4217 - val_acc: 0.8072\n",
            "Epoch 172/300\n",
            "70/70 [==============================] - 0s 4ms/step - loss: 0.3681 - acc: 0.8367 - val_loss: 0.4258 - val_acc: 0.8049\n",
            "Epoch 173/300\n",
            "70/70 [==============================] - 0s 4ms/step - loss: 0.3676 - acc: 0.8366 - val_loss: 0.4217 - val_acc: 0.8058\n"
          ]
        }
      ]
    },
    {
      "cell_type": "code",
      "source": [
        "#delete all save file in directory\n",
        "!rm *"
      ],
      "metadata": {
        "id": "1bDCbqr0PoMg",
        "colab": {
          "base_uri": "https://localhost:8080/"
        },
        "outputId": "a2b4e806-f620-41d0-ab43-94723f410612"
      },
      "execution_count": 42,
      "outputs": [
        {
          "output_type": "stream",
          "name": "stdout",
          "text": [
            "rm: cannot remove 'sample_data': Is a directory\n"
          ]
        }
      ]
    },
    {
      "cell_type": "code",
      "source": [
        "!ls -lt"
      ],
      "metadata": {
        "id": "Ax1uu9yp-sEk",
        "colab": {
          "base_uri": "https://localhost:8080/"
        },
        "outputId": "51d46384-e327-4873-e9a0-0d02abc2652e"
      },
      "execution_count": 43,
      "outputs": [
        {
          "output_type": "stream",
          "name": "stdout",
          "text": [
            "total 4\n",
            "drwxr-xr-x 1 root root 4096 Sep  9 13:22 sample_data\n"
          ]
        }
      ]
    },
    {
      "cell_type": "code",
      "source": [
        "# Summarize history for accuracy\n",
        "plt.figure(figsize=(15,5))\n",
        "plt.plot(history.history['acc'])\n",
        "plt.plot(history.history['val_acc'])\n",
        "plt.title('Train accuracy')\n",
        "plt.ylabel('accuracy')\n",
        "plt.xlabel('epoch')\n",
        "plt.legend(['train', 'val'], loc='upper left')\n",
        "plt.grid()\n",
        "plt.show()\n",
        "\n",
        "# Summarize history for loss\n",
        "plt.figure(figsize=(15,5))\n",
        "plt.plot(history.history['loss'])\n",
        "plt.plot(history.history['val_loss'])\n",
        "plt.title('Train loss')\n",
        "plt.ylabel('loss')\n",
        "plt.xlabel('epoch')\n",
        "plt.legend(['train', 'val'], loc='upper right')\n",
        "plt.grid()\n",
        "plt.show()"
      ],
      "metadata": {
        "id": "STZVsUql7ZCb",
        "colab": {
          "base_uri": "https://localhost:8080/",
          "height": 683
        },
        "outputId": "902a3abe-3665-4932-83d6-017287aed652"
      },
      "execution_count": 44,
      "outputs": [
        {
          "output_type": "display_data",
          "data": {
            "text/plain": [
              "<Figure size 1080x360 with 1 Axes>"
            ],
            "image/png": "[encoded data removed]"
          },
          "metadata": {
            "needs_background": "light"
          }
        },
        {
          "output_type": "display_data",
          "data": {
            "text/plain": [
              "<Figure size 1080x360 with 1 Axes>"
            ],
            "image/png": "[encoded data removed]"
          },
          "metadata": {
            "needs_background": "light"
          }
        }
      ]
    },
    {
      "cell_type": "code",
      "source": [
        "results = mlp_model.evaluate(X_test, Y_test, batch_size=128)\n",
        "print( f\"{mlp_model.metrics_names} = {results}\" )"
      ],
      "metadata": {
        "id": "cSzHa8n37d3D",
        "colab": {
          "base_uri": "https://localhost:8080/"
        },
        "outputId": "fabc29d2-2205-4a8d-ff00-f678061a6e9b"
      },
      "execution_count": 45,
      "outputs": [
        {
          "output_type": "stream",
          "name": "stdout",
          "text": [
            "38/38 [==============================] - 0s 3ms/step - loss: 0.4335 - acc: 0.8020\n",
            "['loss', 'acc'] = [0.4335304796695709, 0.8020092248916626]\n"
          ]
        }
      ]
    },
    {
      "cell_type": "code",
      "source": [
        "acc_score(X_test,Y_test,mlp_model)\n",
        "class_report (X_test,Y_test,mlp_model)\n",
        "plot_cfm(X_test,Y_test,mlp_model)"
      ],
      "metadata": {
        "id": "S8Gj_lqJA6yx",
        "colab": {
          "base_uri": "https://localhost:8080/",
          "height": 603
        },
        "outputId": "7f080e3f-859c-4845-add2-7b20e586d1a4"
      },
      "execution_count": 46,
      "outputs": [
        {
          "output_type": "stream",
          "name": "stdout",
          "text": [
            "Accuracy = 80.20%\n",
            "\n",
            "Classification Report\n",
            "\n",
            "              precision    recall  f1-score   support\n",
            "\n",
            "         0.0       0.83      0.75      0.79      2384\n",
            "         1.0       0.78      0.85      0.81      2394\n",
            "\n",
            "    accuracy                           0.80      4778\n",
            "   macro avg       0.80      0.80      0.80      4778\n",
            "weighted avg       0.80      0.80      0.80      4778\n",
            "\n",
            "\n",
            "Confusion Matrix\n",
            "[[1799  585]\n",
            " [ 361 2033]]\n"
          ]
        },
        {
          "output_type": "display_data",
          "data": {
            "text/plain": [
              "<Figure size 432x288 with 2 Axes>"
            ],
            "image/png": "[encoded data removed]"
          },
          "metadata": {
            "needs_background": "light"
          }
        }
      ]
    }
  ]
}